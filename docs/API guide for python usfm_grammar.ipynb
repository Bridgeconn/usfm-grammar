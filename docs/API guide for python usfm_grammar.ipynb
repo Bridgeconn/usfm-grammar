{
 "cells": [
  {
   "cell_type": "markdown",
   "id": "a7b8c9b4",
   "metadata": {},
   "source": [
    "## How to use the usfm-grammar python APIs\n"
   ]
  },
  {
   "cell_type": "markdown",
   "id": "eb38154b",
   "metadata": {},
   "source": [
    "### Installation"
   ]
  },
  {
   "cell_type": "markdown",
   "id": "d55330bb",
   "metadata": {},
   "source": [
    "#### From PyPI"
   ]
  },
  {
   "cell_type": "code",
   "execution_count": null,
   "id": "23545d40",
   "metadata": {},
   "outputs": [],
   "source": [
    "# Good to set up a virtual environment\n",
    "# requires python >= 3.10\n",
    "!pip install usfm-grammar"
   ]
  },
  {
   "cell_type": "markdown",
   "id": "228ebb44",
   "metadata": {},
   "source": [
    "#### From code base"
   ]
  },
  {
   "cell_type": "code",
   "execution_count": null,
   "id": "54841666",
   "metadata": {},
   "outputs": [],
   "source": [
    "! pip install -e ./../python-usfm-parser/ # from the code base"
   ]
  },
  {
   "cell_type": "code",
   "execution_count": null,
   "id": "ba23e32e",
   "metadata": {},
   "outputs": [],
   "source": []
  },
  {
   "cell_type": "code",
   "execution_count": null,
   "id": "8367ed3b",
   "metadata": {},
   "outputs": [],
   "source": [
    "! usfm-grammar -h # to view the command line options"
   ]
  },
  {
   "cell_type": "code",
   "execution_count": null,
   "id": "b3d034a2",
   "metadata": {},
   "outputs": [],
   "source": [
    "# to bring the changes, after update on the local tree-sitter-usfm grammar\n",
    "# in terminal from the project root run the following\n",
    "# >>> python python-usfm-parser/src/grammar_rebuild.py ./tree-sitter-usfm3/ python-usfm-parser/src/usfm_grammar/my-languages.so"
   ]
  },
  {
   "cell_type": "markdown",
   "id": "78c03466",
   "metadata": {},
   "source": [
    "### Parsing an input USFM"
   ]
  },
  {
   "cell_type": "code",
   "execution_count": 1,
   "id": "5d06e40a",
   "metadata": {},
   "outputs": [],
   "source": [
    "from usfm_grammar import USFMParser, Filter # importing from the local module, not from an installed library"
   ]
  },
  {
   "cell_type": "code",
   "execution_count": 29,
   "id": "932320b5",
   "metadata": {},
   "outputs": [],
   "source": [
    "input_usfm_str = '''\n",
    "\\\\id EXO 02EXOGNT92.SFM, Good News Translation, June 2003\n",
    "\\\\h പുറപ്പാടു്\n",
    "\\\\toc1 പുറപ്പാടു്\n",
    "\\\\toc2 പുറപ്പാടു്\n",
    "\\\\mt പുറപ്പാടു്\n",
    "\\\\c 1\n",
    "\\\\p\n",
    "\\\\v 1 യാക്കോബിനോടുകൂടെ കുടുംബസഹിതം ഈജിപ്റ്റിൽ വന്ന \n",
    "\\\\p യിസ്രായേൽമക്കളുടെ പേരുകൾ : \n",
    "\\\\v 2 രൂബേൻ, ശിമെയോൻ, ലേവി,\n",
    "\\\\v 3 \n",
    "\\\\li1 യെഹൂദാ, \n",
    "\\\\li1 യിസ്സാഖാർ, \n",
    "\\\\li1 സെബൂലൂൻ, \n",
    "\\\\li1 ബെന്യാമീൻ\n",
    "\\\\p\n",
    "\\\\v 4 ദാൻ, നഫ്താലി, ഗാദ്, ആശേർ.\n",
    "\\\\v 12-83 They presented their offerings in the following order:\n",
    "\\\\tr \\\\th1 Day \\\\th2 Tribe \\\\th3 Leader\n",
    "\\\\tr \\\\tcr1 1st \\\\tc2 Judah \\\\tc3 Nahshon son of Amminadab\n",
    "\\\\tr \\\\tcr1 2nd \\\\tc2 Issachar \\\\tc3 Nethanel son of Zuar\n",
    "\\\\tr \\\\tcr1 3rd \\\\tc2 Zebulun \\\\tc3 Eliab son of Helon\n",
    "\\\\p\n",
    "\\\\v 5 യാക്കോബിന്റെ സന്താനപരമ്പരകൾ എല്ലാം കൂടി എഴുപതു പേർ ആയിരുന്നു; യോസേഫ് മുമ്പെ തന്നെ ഈജിപ്റ്റിൽ ആയിരുന്നു. \\w gracious|grace\\w* and then a few words later \\w gracious|lemma=\"grace\" x-myattr=\"metadata\"\\w*\n",
    "\\\\c 2\n",
    "\\\\s1 A Prayer of Habakkuk\n",
    "\\\\p\n",
    "\\\\v 1 This is a prayer of the prophet Habakkuk:\n",
    "\\\\b\n",
    "\\\\q1\n",
    "\\\\v 2 O \\\\nd Lord\\\\nd*, I have heard of what you have done,\n",
    "\\\\q2 and I am filled with awe.\n",
    "\\\\q1 Now do again in our times\n",
    "\\\\q2 the great deeds you used to do.\n",
    "\\\\q1 Be merciful, even when you are angry.\n",
    "\\\\p\n",
    "\\\\v 20 Adam \\\\f + \\\\fr 3.20: \\\\fk Adam: \\\\ft This name in Hebrew means “all human beings.”\\\\f*\n",
    "named his wife Eve, \\\\f + \\\\fr 3.20: \\\\fk Eve: \\\\ft This name sounds similar to the Hebrew\n",
    "word for “living,” which is rendered in this context as “human beings.”\\\\f* because she\n",
    "was the mother of all human beings.\n",
    "\\\\v 21 And the \\\\nd Lord\\\\nd* God made clothes out of animal skins for Adam and his wife,\n",
    "and he clothed them.\n",
    "\\\\qt-s |sid=\"qt_123\" who=\"Pilate\"\\\\*“Are you the king of the Jews?”\\\\qt-e |eid=\"qt_123\"\\\\*\n",
    "\\\\esb \\\\cat History\\\\cat*\n",
    "\\\\ms Fish and Fishing\n",
    "\\\\p In Jesus' time, fishing took place mostly on lake Galilee, because Jewish people\n",
    "could not use many of the harbors along the coast of the Mediterranean Sea, since these\n",
    "harbors were often controlled by unfriendly neighbors. The most common fish in the Lake\n",
    "of Galilee were carp and catfish. \\\\wj The Law of Moses \\\\wj* allowed people to eat any fish with\n",
    "fins and scales, but since catfish lack scales (as do eels and sharks) they were not to\n",
    "be eaten. Fish were also probably brought from Tyre and Sidon,\n",
    "where they were dried and salted.\n",
    "...\n",
    "\\\\p Among early Christians, the fish was a favorite image for Jesus, because the Greek\n",
    "word for fish ( \\\\tl ichthus\\\\tl* ) consists of the first letters of the Greek words that\n",
    "tell who Jesus is: \\\\fig Christian Fish Image\\\\fig*\n",
    "\\\\esbe\n",
    "'''"
   ]
  },
  {
   "cell_type": "code",
   "execution_count": 30,
   "id": "ad92e648",
   "metadata": {},
   "outputs": [],
   "source": [
    "my_parser = USFMParser(input_usfm_str)"
   ]
  },
  {
   "cell_type": "code",
   "execution_count": 31,
   "id": "758fc216",
   "metadata": {},
   "outputs": [],
   "source": [
    "# To validate the input USFM file. \n",
    "# The rest of operations will work even if there are small errors\n",
    "my_parser.errors "
   ]
  },
  {
   "cell_type": "markdown",
   "id": "c2b619c6",
   "metadata": {},
   "source": [
    "#### Converting to other formats and extracting specific contents via filters"
   ]
  },
  {
   "cell_type": "code",
   "execution_count": 32,
   "id": "9aa16315",
   "metadata": {},
   "outputs": [
    {
     "data": {
      "text/plain": [
       "{'book': {'bookCode': 'EXO',\n",
       "  'fileDescription': '02EXOGNT92.SFM, Good News Translation, June 2003',\n",
       "  'headers': [{'h': 'പുറപ്പാടു്'},\n",
       "   [{'toc1': 'പുറപ്പാടു്'}, {'toc2': 'പുറപ്പാടു്'}],\n",
       "   {'mt': 'പുറപ്പാടു്'}],\n",
       "  'chapters': [{'chapterNumber': '1',\n",
       "    'contents': [{'p': [{'verseNumber': '1'},\n",
       "       {'verseText': 'യാക്കോബിനോടുകൂടെ കുടുംബസഹിതം ഈജിപ്റ്റിൽ വന്ന'}]},\n",
       "     {'p': [{'verseText': 'യിസ്രായേൽമക്കളുടെ പേരുകൾ :'},\n",
       "       {'verseNumber': '2'},\n",
       "       {'verseText': 'രൂബേൻ, ശിമെയോൻ, ലേവി,'},\n",
       "       {'verseNumber': '3'}]},\n",
       "     {'list': [{'li1': {'verseText': 'യെഹൂദാ,'}},\n",
       "       {'li1': {'verseText': 'യിസ്സാഖാർ,'}},\n",
       "       {'li1': {'verseText': 'സെബൂലൂൻ,'}},\n",
       "       {'li1': {'verseText': 'ബെന്യാമീൻ'}}]},\n",
       "     {'p': [{'verseNumber': '4'},\n",
       "       {'verseText': 'ദാൻ, നഫ്താലി, ഗാദ്, ആശേർ.'},\n",
       "       {'verseNumber': '12-83'},\n",
       "       {'verseText': 'They presented their offerings in the following order:'}]},\n",
       "     {'table': [{'tr': [{'th1': {'verseText': 'Day'}},\n",
       "         {'th2': {'verseText': 'Tribe'}},\n",
       "         {'th3': {'verseText': 'Leader'}}]},\n",
       "       {'tr': [{'tcr1': {'verseText': '1st'}},\n",
       "         {'tc2': {'verseText': 'Judah'}},\n",
       "         {'tc3': {'verseText': 'Nahshon son of Amminadab'}}]},\n",
       "       {'tr': [{'tcr1': {'verseText': '2nd'}},\n",
       "         {'tc2': {'verseText': 'Issachar'}},\n",
       "         {'tc3': {'verseText': 'Nethanel son of Zuar'}}]},\n",
       "       {'tr': [{'tcr1': {'verseText': '3rd'}},\n",
       "         {'tc2': {'verseText': 'Zebulun'}},\n",
       "         {'tc3': {'verseText': 'Eliab son of Helon'}}]}]},\n",
       "     {'p': [{'verseNumber': '5'},\n",
       "       [{'verseText': 'യാക്കോബിന്റെ സന്താനപരമ്പരകൾ എല്ലാം കൂടി എഴുപതു പേർ ആയിരുന്നു; യോസേഫ് മുമ്പെ തന്നെ ഈജിപ്റ്റിൽ ആയിരുന്നു.'},\n",
       "        {'w': 'gracious',\n",
       "         'attributes': [{'lemma': 'grace'}],\n",
       "         'closing': '\\\\w*'},\n",
       "        {'verseText': 'and then a few words later'},\n",
       "        {'w': 'gracious',\n",
       "         'attributes': [{'lemma': 'grace'}, {'x-myattr': 'metadata'}],\n",
       "         'closing': '\\\\w*'},\n",
       "        {'verseText': ''}]]}]},\n",
       "   {'chapterNumber': '2',\n",
       "    'contents': [{'s1': 'A Prayer of Habakkuk'},\n",
       "     {'p': [{'verseNumber': '1'},\n",
       "       {'verseText': 'This is a prayer of the prophet Habakkuk:'}]},\n",
       "     {'poetry': [{'q1': [{'verseNumber': '2'},\n",
       "         [{'verseText': 'O'},\n",
       "          {'nd': 'Lord', 'closing': '\\\\nd*'},\n",
       "          {'verseText': ', I have heard of what you have done,'}]]},\n",
       "       {'q2': {'verseText': 'and I am filled with awe.'}},\n",
       "       {'q1': {'verseText': 'Now do again in our times'}},\n",
       "       {'q2': {'verseText': 'the great deeds you used to do.'}},\n",
       "       {'q1': {'verseText': 'Be merciful, even when you are angry.'}}]},\n",
       "     {'p': [{'verseNumber': '20'},\n",
       "       {'verseText': 'Adam'},\n",
       "       {'f': [{'caller': '+'},\n",
       "         {'fr': '3.20:'},\n",
       "         {'fk': 'Adam:'},\n",
       "         {'ft': 'This name in Hebrew means “all human beings.”'}],\n",
       "        'closing': '\\\\f*'},\n",
       "       {'verseText': 'named his wife Eve,'},\n",
       "       {'f': [{'caller': '+'},\n",
       "         {'fr': '3.20:'},\n",
       "         {'fk': 'Eve:'},\n",
       "         {'ft': 'This name sounds similar to the Hebrew\\nword for “living,” which is rendered in this context as “human beings.”'}],\n",
       "        'closing': '\\\\f*'},\n",
       "       {'verseText': 'because she\\nwas the mother of all human beings.'},\n",
       "       {'verseNumber': '21'},\n",
       "       [{'verseText': 'And the'},\n",
       "        {'nd': 'Lord', 'closing': '\\\\nd*'},\n",
       "        {'verseText': 'God made clothes out of animal skins for Adam and his wife,\\nand he clothed them.'}],\n",
       "       {'milestone': 'qt-s',\n",
       "        'attributes': [{'sid': 'qt_123'}, {'who': 'Pilate'}]},\n",
       "       {'verseText': '“Are you the king of the Jews?”'},\n",
       "       {'milestone': 'qt-e', 'attributes': [{'eid': 'qt_123'}]},\n",
       "       {'verseText': ''}]}]}]}}"
      ]
     },
     "execution_count": 32,
     "metadata": {},
     "output_type": "execute_result"
    }
   ],
   "source": [
    "my_parser.to_dict()"
   ]
  },
  {
   "cell_type": "code",
   "execution_count": 33,
   "id": "c5b4d79f",
   "metadata": {},
   "outputs": [
    {
     "data": {
      "text/plain": [
       "{'book': {'bookCode': 'EXO',\n",
       "  'fileDescription': '02EXOGNT92.SFM, Good News Translation, June 2003',\n",
       "  'chapters': [{'chapterNumber': '1',\n",
       "    'contents': [{'verseNumber': '1'},\n",
       "     {'verseText': 'യാക്കോബിനോടുകൂടെ കുടുംബസഹിതം ഈജിപ്റ്റിൽ വന്ന'},\n",
       "     {'verseText': 'യിസ്രായേൽമക്കളുടെ പേരുകൾ :'},\n",
       "     {'verseNumber': '2'},\n",
       "     {'verseText': 'രൂബേൻ, ശിമെയോൻ, ലേവി,'},\n",
       "     {'verseNumber': '3'},\n",
       "     {'verseText': 'യെഹൂദാ,'},\n",
       "     {'verseText': 'യിസ്സാഖാർ,'},\n",
       "     {'verseText': 'സെബൂലൂൻ,'},\n",
       "     {'verseText': 'ബെന്യാമീൻ'},\n",
       "     {'verseNumber': '4'},\n",
       "     {'verseText': 'ദാൻ, നഫ്താലി, ഗാദ്, ആശേർ.'},\n",
       "     {'verseNumber': '12-83'},\n",
       "     {'verseText': 'They presented their offerings in the following order:'},\n",
       "     {'verseText': 'Day'},\n",
       "     {'verseText': 'Tribe'},\n",
       "     {'verseText': 'Leader'},\n",
       "     {'verseText': '1st'},\n",
       "     {'verseText': 'Judah'},\n",
       "     {'verseText': 'Nahshon son of Amminadab'},\n",
       "     {'verseText': '2nd'},\n",
       "     {'verseText': 'Issachar'},\n",
       "     {'verseText': 'Nethanel son of Zuar'},\n",
       "     {'verseText': '3rd'},\n",
       "     {'verseText': 'Zebulun'},\n",
       "     {'verseText': 'Eliab son of Helon'},\n",
       "     {'verseNumber': '5'},\n",
       "     {'verseText': 'യാക്കോബിന്റെ സന്താനപരമ്പരകൾ എല്ലാം കൂടി എഴുപതു പേർ ആയിരുന്നു; യോസേഫ് മുമ്പെ തന്നെ ഈജിപ്റ്റിൽ ആയിരുന്നു.'},\n",
       "     {'w': 'gracious', 'closing': '\\\\w*'},\n",
       "     {'verseText': 'and then a few words later'},\n",
       "     {'w': 'gracious', 'closing': '\\\\w*'},\n",
       "     {'verseText': ''}]},\n",
       "   {'chapterNumber': '2',\n",
       "    'contents': [{'verseNumber': '1'},\n",
       "     {'verseText': 'This is a prayer of the prophet Habakkuk:'},\n",
       "     {'verseNumber': '2'},\n",
       "     {'verseText': 'O'},\n",
       "     {'nd': 'Lord', 'closing': '\\\\nd*'},\n",
       "     {'verseText': ', I have heard of what you have done,'},\n",
       "     {'verseText': 'and I am filled with awe.'},\n",
       "     {'verseText': 'Now do again in our times'},\n",
       "     {'verseText': 'the great deeds you used to do.'},\n",
       "     {'verseText': 'Be merciful, even when you are angry.'},\n",
       "     {'verseNumber': '20'},\n",
       "     {'verseText': 'Adam'},\n",
       "     {'verseText': 'named his wife Eve,'},\n",
       "     {'verseText': 'because she\\nwas the mother of all human beings.'},\n",
       "     {'verseNumber': '21'},\n",
       "     {'verseText': 'And the'},\n",
       "     {'nd': 'Lord', 'closing': '\\\\nd*'},\n",
       "     {'verseText': 'God made clothes out of animal skins for Adam and his wife,\\nand he clothed them.'},\n",
       "     {'verseText': '“Are you the king of the Jews?”'},\n",
       "     {'verseText': ''}]}]}}"
      ]
     },
     "execution_count": 33,
     "metadata": {},
     "output_type": "execute_result"
    }
   ],
   "source": [
    "my_parser.to_dict([Filter.SCRIPTURE_TEXT])"
   ]
  },
  {
   "cell_type": "code",
   "execution_count": null,
   "id": "ba0b92d5",
   "metadata": {},
   "outputs": [],
   "source": [
    "my_parser.to_dict([Filter.NOTES])"
   ]
  },
  {
   "cell_type": "code",
   "execution_count": null,
   "id": "e4f49981",
   "metadata": {},
   "outputs": [],
   "source": [
    "my_parser.to_dict([Filter.SCRIPTURE_TEXT, Filter.PARAGRAPHS, Filter.TITLES])"
   ]
  },
  {
   "cell_type": "code",
   "execution_count": null,
   "id": "cf59a547",
   "metadata": {},
   "outputs": [],
   "source": [
    "table_output = my_parser.to_list()\n",
    "table_output\n"
   ]
  },
  {
   "cell_type": "code",
   "execution_count": null,
   "id": "f56bc71d",
   "metadata": {},
   "outputs": [],
   "source": [
    "print(\"\\n\".join([\"\\t\".join(row) for row in table_output]))"
   ]
  },
  {
   "cell_type": "code",
   "execution_count": null,
   "id": "6db3993e",
   "metadata": {},
   "outputs": [],
   "source": []
  },
  {
   "cell_type": "code",
   "execution_count": null,
   "id": "e6fa8566",
   "metadata": {},
   "outputs": [],
   "source": [
    "table_output = my_parser.to_list([Filter.MILESTONES, Filter.NOTES])\n",
    "print(\"\\n\".join([\"\\t\".join(row) for row in table_output]))\n"
   ]
  },
  {
   "cell_type": "code",
   "execution_count": null,
   "id": "d7b6c4d0",
   "metadata": {},
   "outputs": [],
   "source": []
  },
  {
   "cell_type": "code",
   "execution_count": 36,
   "id": "43049bb6",
   "metadata": {},
   "outputs": [
    {
     "name": "stdout",
     "output_type": "stream",
     "text": [
      "Book\tChapter\tVerse\tVerse-Text\tNotes\tMilestone\tOther\n",
      "EXO\t1\t1\t\"യാക്കോബിനോടുകൂടെ കുടുംബസഹിതം ഈജിപ്റ്റിൽ വന്ന യിസ്രായേൽമക്കളുടെ പേരുകൾ : \"\t\"\"\t\"\"\t\"\"\n",
      "EXO\t1\t2\t\"രൂബേൻ, ശിമെയോൻ, ലേവി, \"\t\"\"\t\"\"\t\"\"\n",
      "EXO\t1\t3\t\"യെഹൂദാ, യിസ്സാഖാർ, സെബൂലൂൻ, ബെന്യാമീൻ \"\t\"\"\t\"\"\t\"\"\n",
      "EXO\t1\t4\t\"ദാൻ, നഫ്താലി, ഗാദ്, ആശേർ. \"\t\"\"\t\"\"\t\"\"\n",
      "EXO\t1\t12-83\t\"They presented their offerings in the following order: Day Tribe Leader 1st Judah Nahshon son of Amminadab 2nd Issachar Nethanel son of Zuar 3rd Zebulun Eliab son of Helon \"\t\"\"\t\"\"\t\"\"\n",
      "EXO\t1\t5\t\"യാക്കോബിന്റെ സന്താനപരമ്പരകൾ എല്ലാം കൂടി എഴുപതു പേർ ആയിരുന്നു; യോസേഫ് മുമ്പെ തന്നെ ഈജിപ്റ്റിൽ ആയിരുന്നു. gracious and then a few words later gracious  \"\t\"\"\t\"\"\t\"\"\n",
      "EXO\t2\t5\t\"യാക്കോബിന്റെ സന്താനപരമ്പരകൾ എല്ലാം കൂടി എഴുപതു പേർ ആയിരുന്നു; യോസേഫ് മുമ്പെ തന്നെ ഈജിപ്റ്റിൽ ആയിരുന്നു. gracious and then a few words later gracious  \"\t\"\"\t\"\"\t\"\"\n",
      "EXO\t2\t1\t\"This is a prayer of the prophet Habakkuk: \"\t\"\"\t\"\"\t\"\"\n",
      "EXO\t2\t2\t\"O Lord , I have heard of what you have done, and I am filled with awe. Now do again in our times the great deeds you used to do. Be merciful, even when you are angry. \"\t\"\"\t\"\"\t\"\"\n",
      "EXO\t2\t20\t\"Adam named his wife Eve, because she\n",
      "was the mother of all human beings. \"\t\"\"\t\"\"\t\"\"\n",
      "EXO\t2\t21\t\"And the Lord God made clothes out of animal skins for Adam and his wife,\n",
      "and he clothed them. “Are you the king of the Jews?”  \"\t\"\"\t\"\"\t\"\"\n"
     ]
    }
   ],
   "source": [
    "table_output = my_parser.to_list([Filter.SCRIPTURE_TEXT])\n",
    "print(\"\\n\".join([\"\\t\".join(row) for row in table_output]))\n"
   ]
  },
  {
   "cell_type": "code",
   "execution_count": null,
   "id": "3f14c2b0",
   "metadata": {},
   "outputs": [],
   "source": []
  },
  {
   "cell_type": "code",
   "execution_count": null,
   "id": "fe450f35",
   "metadata": {},
   "outputs": [],
   "source": []
  },
  {
   "cell_type": "code",
   "execution_count": 38,
   "id": "38a6d3fb",
   "metadata": {},
   "outputs": [
    {
     "name": "stdout",
     "output_type": "stream",
     "text": [
      "<usx version=\"3.0\"><book code=\"EXO\" style=\"id\">02EXOGNT92.SFM, Good News Translation, June 2003</book><para style=\"h\">പുറപ്പാടു്</para><para style=\"toc1\">പുറപ്പാടു്</para><para style=\"toc2\">പുറപ്പാടു്</para><para style=\"mt\">പുറപ്പാടു്</para><chapter number=\"1\" style=\"c\" sid=\"EXO 1\"/><para style=\"p\"><verse number=\"1\" sid=\"EXO 1:1\" style=\"v\"/>യാക്കോബിനോടുകൂടെ കുടുംബസഹിതം ഈജിപ്റ്റിൽ വന്ന</para><para style=\"p\">യിസ്രായേൽമക്കളുടെ പേരുകൾ :<verse eid=\"EXO 1:1\"/><verse number=\"2\" sid=\"EXO 1:2\" style=\"v\"/>രൂബേൻ, ശിമെയോൻ, ലേവി,<verse eid=\"EXO 1:2\"/><verse number=\"3\" sid=\"EXO 1:3\" style=\"v\"/></para><para style=\"li1\"/>യെഹൂദാ,<para style=\"li1\"/>യിസ്സാഖാർ,<para style=\"li1\"/>സെബൂലൂൻ,<para style=\"li1\"/>ബെന്യാമീൻ<para style=\"p\"><verse eid=\"EXO 1:3\"/><verse number=\"4\" sid=\"EXO 1:4\" style=\"v\"/>ദാൻ, നഫ്താലി, ഗാദ്, ആശേർ.<verse eid=\"EXO 1:4\"/><verse number=\"12-83\" sid=\"EXO 1:12-83\" style=\"v\"/>They presented their offerings in the following order:</para><table><row style=\"tr\"><cell style=\"th1\" align=\"start\">Day</cell><cell style=\"th2\" align=\"start\">Tribe</cell><cell style=\"th3\" align=\"start\">Leader</cell></row><row style=\"tr\"><cell style=\"tcr1\" align=\"end\">1st</cell><cell style=\"tc2\" align=\"start\">Judah</cell><cell style=\"tc3\" align=\"start\">Nahshon son of Amminadab</cell></row><row style=\"tr\"><cell style=\"tcr1\" align=\"end\">2nd</cell><cell style=\"tc2\" align=\"start\">Issachar</cell><cell style=\"tc3\" align=\"start\">Nethanel son of Zuar</cell></row><row style=\"tr\"><cell style=\"tcr1\" align=\"end\">3rd</cell><cell style=\"tc2\" align=\"start\">Zebulun</cell><cell style=\"tc3\" align=\"start\">Eliab son of Helon</cell></row></table><para style=\"p\"><verse eid=\"EXO 1:12-83\"/><verse number=\"5\" sid=\"EXO 1:5\" style=\"v\"/>യാക്കോബിന്റെ സന്താനപരമ്പരകൾ എല്ലാം കൂടി എഴുപതു പേർ ആയിരുന്നു; യോസേഫ് മുമ്പെ തന്നെ ഈജിപ്റ്റിൽ ആയിരുന്നു.<char style=\"w\" closed=\"true\" lemma=\"grace\">gracious</char>and then a few words later<char style=\"w\" closed=\"true\" lemma=\"grace\" x-myattr=\"metadata\">gracious</char><verse eid=\"EXO 1:5\"/></para><chapter eid=\"EXO 1\"/><chapter number=\"2\" style=\"c\" sid=\"EXO 2\"/><para style=\"s1\">A Prayer of Habakkuk</para><para style=\"p\"><verse number=\"1\" sid=\"EXO 2:1\" style=\"v\"/>This is a prayer of the prophet Habakkuk:</para><optbreak/><para style=\"q1\"/><verse eid=\"EXO 2:1\"/><verse number=\"2\" sid=\"EXO 2:2\" style=\"v\"/>O<char style=\"nd\" closed=\"true\">Lord</char>, I have heard of what you have done,<para style=\"q2\"/>and I am filled with awe.<para style=\"q1\"/>Now do again in our times<para style=\"q2\"/>the great deeds you used to do.<para style=\"q1\"/>Be merciful, even when you are angry.<para style=\"p\"><verse eid=\"EXO 2:2\"/><verse number=\"20\" sid=\"EXO 2:20\" style=\"v\"/>Adam<note style=\"f\" caller=\"+\"><char style=\"fr\" closed=\"false\">3.20:</char><char style=\"fk\" closed=\"false\">Adam:</char><char style=\"ft\" closed=\"false\">This name in Hebrew means “all human beings.”</char></note>named his wife Eve,<note style=\"f\" caller=\"+\"><char style=\"fr\" closed=\"false\">3.20:</char><char style=\"fk\" closed=\"false\">Eve:</char><char style=\"ft\" closed=\"false\">This name sounds similar to the Hebrew\n",
      "word for “living,” which is rendered in this context as “human beings.”</char></note>because she\n",
      "was the mother of all human beings.<verse eid=\"EXO 2:20\"/><verse number=\"21\" sid=\"EXO 2:21\" style=\"v\"/>And the<char style=\"nd\" closed=\"true\">Lord</char>God made clothes out of animal skins for Adam and his wife,\n",
      "and he clothed them.<ms style=\"qt-s\" sid=\"qt_123\" who=\"Pilate\"/>“Are you the king of the Jews?”<ms style=\"qt-e\" eid=\"qt_123\"/></para><sidebar style=\"esb\" category=\"History\"><para style=\"ms\">Fish and Fishing</para><para style=\"p\">In Jesus' time, fishing took place mostly on lake Galilee, because Jewish people\n",
      "could not use many of the harbors along the coast of the Mediterranean Sea, since these\n",
      "harbors were often controlled by unfriendly neighbors. The most common fish in the Lake\n",
      "of Galilee were carp and catfish.<char style=\"wj\" closed=\"true\">The Law of Moses</char>allowed people to eat any fish with\n",
      "fins and scales, but since catfish lack scales (as do eels and sharks) they were not to\n",
      "be eaten. Fish were also probably brought from Tyre and Sidon,\n",
      "where they were dried and salted.\n",
      "...</para><para style=\"p\">Among early Christians, the fish was a favorite image for Jesus, because the Greek\n",
      "word for fish (<char style=\"tl\" closed=\"true\">ichthus</char>) consists of the first letters of the Greek words that\n",
      "tell who Jesus is:<figure style=\"fig\">Christian Fish Image</figure></para></sidebar><verse eid=\"EXO 2:21\"/><chapter eid=\"EXO 2\"/></usx>\n",
      "\n"
     ]
    }
   ],
   "source": [
    "from lxml import etree\n",
    "usx_elem = my_parser.to_usx()\n",
    "usx_str = etree.tostring(usx_elem, encoding=\"unicode\", pretty_print=True) \n",
    "print(usx_str)"
   ]
  },
  {
   "cell_type": "code",
   "execution_count": null,
   "id": "6359c463",
   "metadata": {},
   "outputs": [],
   "source": []
  },
  {
   "cell_type": "markdown",
   "id": "2a9162ca",
   "metadata": {},
   "source": [
    "#### To work with the syntax tree itself"
   ]
  },
  {
   "cell_type": "code",
   "execution_count": 40,
   "id": "818e36d9",
   "metadata": {},
   "outputs": [
    {
     "name": "stdout",
     "output_type": "stream",
     "text": [
      "[<Node type=book, start_point=(1, 0), end_point=(2, 0)>, <Node type=hBlock, start_point=(2, 0), end_point=(3, 0)>, <Node type=tocBlock, start_point=(3, 0), end_point=(5, 0)>, <Node type=mtBlock, start_point=(5, 0), end_point=(6, 0)>, <Node type=chapter, start_point=(6, 0), end_point=(25, 0)>, <Node type=chapter, start_point=(25, 0), end_point=(57, 5)>]\n"
     ]
    }
   ],
   "source": [
    "my_st = my_parser.syntax_tree\n",
    "print(my_st.children)"
   ]
  },
  {
   "cell_type": "code",
   "execution_count": null,
   "id": "295dae47",
   "metadata": {},
   "outputs": [],
   "source": []
  },
  {
   "cell_type": "code",
   "execution_count": null,
   "id": "acc803bc",
   "metadata": {},
   "outputs": [],
   "source": []
  },
  {
   "cell_type": "code",
   "execution_count": 42,
   "id": "5a8cef41",
   "metadata": {},
   "outputs": [
    {
     "name": "stdout",
     "output_type": "stream",
     "text": [
      "(File (book (id (bookcode) (description))) (hBlock (h (hTag) (text))) (tocBlock (toc (tocTag (numberedLevelMax3)) (text)) (toc (tocTag (numberedLevelMax3)) (text))) (mtBlock (mt (mtTag) (text))) (chapter (c (chapterNumber)) (paragraph (p (v (verseNumber)) (verseText (text)))) (paragraph (p (verseText (text)) (v (verseNumber)) (verseText (text)) (v (verseNumber)))) (list (liBlock (li (liTag (numberedLevelMax4)) (verseText (text))) (li (liTag (numberedLevelMax4)) (verseText (text))) (li (liTag (numberedLevelMax4)) (verseText (text))) (li (liTag (numberedLevelMax4)) (verseText (text))))) (paragraph (p (v (verseNumber)) (verseText (text)) (v (verseNumber)) (verseText (text)))) (table (tr (th (thTag) (verseText (text))) (th (thTag) (verseText (text))) (th (thTag) (verseText (text)))) (tr (tcr (tcrTag) (verseText (text))) (tc (tcTag) (verseText (text))) (tc (tcTag) (verseText (text)))) (tr (tcr (tcrTag) (verseText (text))) (tc (tcTag) (verseText (text))) (tc (tcTag) (verseText (text)))) (tr (tcr (tcrTag) (verseText (text))) (tc (tcTag) (verseText (text))) (tc (tcTag) (verseText (text))))) (paragraph (p (v (verseNumber)) (verseText (text) (w (text) (defaultAttribute (attributeValue))) (text) (w (text) (lemmaAttribute (attributeValue)) (customAttribute (customAttributeName) (attributeValue))) (text))))) (chapter (c (chapterNumber)) (title (sBlock (s (sTag (numberedLevelMax5)) (text)))) (paragraph (p (v (verseNumber)) (verseText (text)))) (b) (poetry (qBlock (q (qTag (numberedLevelMax3)) (v (verseNumber)) (verseText (text) (nd (text)) (text))) (q (qTag (numberedLevelMax3)) (verseText (text))) (q (qTag (numberedLevelMax3)) (verseText (text))) (q (qTag (numberedLevelMax3)) (verseText (text))) (q (qTag (numberedLevelMax3)) (verseText (text))))) (paragraph (p (v (verseNumber)) (verseText (text)) (footnote (f (caller) (noteText (text)) (fr (noteText (text))) (fk (noteText (text))) (ft (noteText (text))))) (verseText (text)) (footnote (f (caller) (noteText (text)) (fr (noteText (text))) (fk (noteText (text))) (ft (noteText (text))))) (verseText (text)) (v (verseNumber)) (verseText (text) (nd (text)) (text)) (milestone (milestoneStartTag) (msAttribute (milestoneAttributeName) (attributeValue)) (msAttribute (milestoneAttributeName) (attributeValue))) (verseText (text)) (milestone (milestoneEndTag) (msAttribute (milestoneAttributeName) (attributeValue))) (verseText (text)))) (esb (cat (category)) (title (msBlock (ms (msTag) (text)))) (paragraph (p (verseText (text) (wj (text)) (text)))) (paragraph (p (verseText (text) (tl (text)) (text) (fig (text)) (text)))))))\n"
     ]
    }
   ],
   "source": [
    "# to just view the syntax-tree\n",
    "print(my_parser.to_syntax_tree())"
   ]
  },
  {
   "cell_type": "code",
   "execution_count": null,
   "id": "2bd40ba2",
   "metadata": {},
   "outputs": [],
   "source": []
  },
  {
   "cell_type": "code",
   "execution_count": null,
   "id": "a680a0b6",
   "metadata": {},
   "outputs": [],
   "source": []
  },
  {
   "cell_type": "code",
   "execution_count": null,
   "id": "0fac8a56",
   "metadata": {},
   "outputs": [],
   "source": []
  },
  {
   "cell_type": "code",
   "execution_count": null,
   "id": "d4e0c784",
   "metadata": {},
   "outputs": [],
   "source": []
  },
  {
   "cell_type": "code",
   "execution_count": null,
   "id": "1ea6bb28",
   "metadata": {},
   "outputs": [],
   "source": []
  },
  {
   "cell_type": "code",
   "execution_count": null,
   "id": "dc42b6af",
   "metadata": {},
   "outputs": [],
   "source": []
  }
 ],
 "metadata": {
  "kernelspec": {
   "display_name": "ENV-for-usfmgrammar",
   "language": "python",
   "name": "env-for-usfmgrammar"
  },
  "language_info": {
   "codemirror_mode": {
    "name": "ipython",
    "version": 3
   },
   "file_extension": ".py",
   "mimetype": "text/x-python",
   "name": "python",
   "nbconvert_exporter": "python",
   "pygments_lexer": "ipython3",
   "version": "3.10.6"
  }
 },
 "nbformat": 4,
 "nbformat_minor": 5
}
