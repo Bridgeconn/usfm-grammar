{
 "cells": [
  {
   "cell_type": "markdown",
   "id": "a7b8c9b4",
   "metadata": {},
   "source": [
    "## How to use the usfm-grammar python APIs\n"
   ]
  },
  {
   "cell_type": "markdown",
   "id": "eb38154b",
   "metadata": {},
   "source": [
    "### Installation"
   ]
  },
  {
   "cell_type": "markdown",
   "id": "d55330bb",
   "metadata": {},
   "source": [
    "#### From PyPI"
   ]
  },
  {
   "cell_type": "code",
   "execution_count": null,
   "id": "23545d40",
   "metadata": {},
   "outputs": [],
   "source": [
    "# Good to set up a virtual environment\n",
    "# requires python >= 3.10\n",
    "!pip install usfm-grammar"
   ]
  },
  {
   "cell_type": "markdown",
   "id": "228ebb44",
   "metadata": {},
   "source": [
    "#### From code base"
   ]
  },
  {
   "cell_type": "code",
   "execution_count": null,
   "id": "54841666",
   "metadata": {},
   "outputs": [],
   "source": [
    "! cd python-usfm-parser/\n",
    "! pip install -e . # from the python-usfm-parser"
   ]
  },
  {
   "cell_type": "code",
   "execution_count": null,
   "id": "8367ed3b",
   "metadata": {},
   "outputs": [],
   "source": [
    "! python usfm_grammar.py -h # to view the command line options"
   ]
  },
  {
   "cell_type": "code",
   "execution_count": null,
   "id": "b3d034a2",
   "metadata": {},
   "outputs": [],
   "source": [
    "! cd src/\n",
    "! python grammar_rebuild.py # to bring the changes, after update on the local tree-sitter-usfm grammar"
   ]
  },
  {
   "cell_type": "markdown",
   "id": "78c03466",
   "metadata": {},
   "source": [
    "### Parsing an input USFM"
   ]
  },
  {
   "cell_type": "code",
   "execution_count": null,
   "id": "5d06e40a",
   "metadata": {},
   "outputs": [],
   "source": [
    "from usfm_grammar import USFMParser, Filter # importing from the local module, not from an installed library"
   ]
  },
  {
   "cell_type": "code",
   "execution_count": null,
   "id": "932320b5",
   "metadata": {},
   "outputs": [],
   "source": [
    "input_usfm_str = open(\"sample.usfm\",\"r\", encoding='utf8').read()\n",
    "\n",
    "\n",
    "print(input_usfm_str)"
   ]
  },
  {
   "cell_type": "code",
   "execution_count": null,
   "id": "ad92e648",
   "metadata": {},
   "outputs": [],
   "source": [
    "my_parser = USFMParser(input_usfm_str)"
   ]
  },
  {
   "cell_type": "code",
   "execution_count": null,
   "id": "758fc216",
   "metadata": {},
   "outputs": [],
   "source": [
    "# To validate the input USFM file. \n",
    "# The rest of operations will work even if there are small errors\n",
    "my_parser.errors "
   ]
  },
  {
   "cell_type": "markdown",
   "id": "c2b619c6",
   "metadata": {},
   "source": [
    "#### Converting to other formats and extracting specific contents via filters"
   ]
  },
  {
   "cell_type": "code",
   "execution_count": null,
   "id": "9aa16315",
   "metadata": {},
   "outputs": [],
   "source": [
    "my_parser.to_dict()"
   ]
  },
  {
   "cell_type": "code",
   "execution_count": null,
   "id": "c5b4d79f",
   "metadata": {},
   "outputs": [],
   "source": [
    "my_parser.to_dict(Filter.ALL)"
   ]
  },
  {
   "cell_type": "code",
   "execution_count": null,
   "id": "ba0b92d5",
   "metadata": {},
   "outputs": [],
   "source": [
    "my_parser.to_dict(Filter.NOTES)"
   ]
  },
  {
   "cell_type": "code",
   "execution_count": null,
   "id": "e4f49981",
   "metadata": {},
   "outputs": [],
   "source": [
    "my_parser.to_dict(Filter.NOTES_TEXT)"
   ]
  },
  {
   "cell_type": "code",
   "execution_count": null,
   "id": "cf59a547",
   "metadata": {},
   "outputs": [],
   "source": [
    "table_output = my_parser.to_list()\n",
    "table_output\n"
   ]
  },
  {
   "cell_type": "code",
   "execution_count": null,
   "id": "f56bc71d",
   "metadata": {},
   "outputs": [],
   "source": [
    "print(\"\\n\".join([\"\\t\".join(row) for row in table_output]))"
   ]
  },
  {
   "cell_type": "code",
   "execution_count": null,
   "id": "6db3993e",
   "metadata": {},
   "outputs": [],
   "source": []
  },
  {
   "cell_type": "code",
   "execution_count": null,
   "id": "e6fa8566",
   "metadata": {},
   "outputs": [],
   "source": [
    "table_output = my_parser.to_list(Filter.NOTES)\n",
    "print(\"\\n\".join([\"\\t\".join(row) for row in table_output]))\n"
   ]
  },
  {
   "cell_type": "code",
   "execution_count": null,
   "id": "d7b6c4d0",
   "metadata": {},
   "outputs": [],
   "source": []
  },
  {
   "cell_type": "code",
   "execution_count": null,
   "id": "43049bb6",
   "metadata": {},
   "outputs": [],
   "source": [
    "my_parser.to_dict(Filter.SCRIPTURE_PARAGRAPHS)"
   ]
  },
  {
   "cell_type": "code",
   "execution_count": null,
   "id": "3f14c2b0",
   "metadata": {},
   "outputs": [],
   "source": [
    "table_output = my_parser.to_list(Filter.SCRIPTURE_PARAGRAPHS)\n",
    "print(\"\\n\".join([\"\\t\".join(row) for row in table_output]))\n"
   ]
  },
  {
   "cell_type": "code",
   "execution_count": null,
   "id": "fe450f35",
   "metadata": {},
   "outputs": [],
   "source": []
  },
  {
   "cell_type": "code",
   "execution_count": null,
   "id": "38a6d3fb",
   "metadata": {},
   "outputs": [],
   "source": [
    "from lxml import etree\n",
    "usx_elem = my_parser.to_usx()\n",
    "print(etree.tostring(usx_elem, encoding=\"unicode\", pretty_print=True))"
   ]
  },
  {
   "cell_type": "code",
   "execution_count": null,
   "id": "6359c463",
   "metadata": {},
   "outputs": [],
   "source": []
  },
  {
   "cell_type": "code",
   "execution_count": null,
   "id": "295dae47",
   "metadata": {},
   "outputs": [],
   "source": []
  },
  {
   "cell_type": "markdown",
   "id": "9584e434",
   "metadata": {},
   "source": [
    "#### USX conversion and validation of the generated USX file"
   ]
  },
  {
   "cell_type": "code",
   "execution_count": null,
   "id": "2bd40ba2",
   "metadata": {},
   "outputs": [],
   "source": [
    "import sys\n",
    "sys.path.append('/home/kavitha/Documents/PEG JS and USFM/usfm-grammar-v3/usfm-grammar/python-usfm-parser/ENV3.10/lib/python3.10/site-packages')\n",
    "\n",
    "\n",
    "from usfm_grammar import USFMParser, Filter\n",
    "from lxml import etree\n",
    "\n",
    "input_usfm_str = open(\"origin.usfm\",\"r\", encoding='utf8').read()\n",
    "my_parser = USFMParser(input_usfm_str)\n",
    "\n",
    "usx_elem = my_parser.to_usx()\n",
    "usx_str = etree.tostring(usx_elem, encoding=\"unicode\")\n",
    "\n",
    "usx_str"
   ]
  },
  {
   "cell_type": "code",
   "execution_count": null,
   "id": "a680a0b6",
   "metadata": {},
   "outputs": [],
   "source": [
    "from lxml import etree\n",
    "with open(\"../schemas/usx.rnc\") as f:\n",
    "    usxrnc_doc  = f.read()\n",
    "    relaxng = etree.RelaxNG.from_rnc_string(usxrnc_doc)"
   ]
  },
  {
   "cell_type": "code",
   "execution_count": null,
   "id": "0fac8a56",
   "metadata": {},
   "outputs": [],
   "source": [
    "\n",
    "\n",
    "from io import StringIO \n",
    "usx_f = StringIO(usx_str)\n",
    "doc = etree.parse(usx_f)\n",
    "if relaxng.validate(doc):\n",
    "    print(\"valid\")\n",
    "else:\n",
    "    relaxng.assertValid(doc)"
   ]
  },
  {
   "cell_type": "code",
   "execution_count": null,
   "id": "d4e0c784",
   "metadata": {},
   "outputs": [],
   "source": []
  },
  {
   "cell_type": "code",
   "execution_count": null,
   "id": "1ea6bb28",
   "metadata": {},
   "outputs": [],
   "source": []
  },
  {
   "cell_type": "code",
   "execution_count": null,
   "id": "dc42b6af",
   "metadata": {},
   "outputs": [],
   "source": []
  },
  {
   "cell_type": "markdown",
   "id": "2a9162ca",
   "metadata": {},
   "source": [
    "#### To work with the syntax tree itself"
   ]
  },
  {
   "cell_type": "code",
   "execution_count": null,
   "id": "818e36d9",
   "metadata": {},
   "outputs": [],
   "source": [
    "my_parser.to_syntax_tree()"
   ]
  },
  {
   "cell_type": "code",
   "execution_count": null,
   "id": "5a8cef41",
   "metadata": {},
   "outputs": [],
   "source": []
  }
 ],
 "metadata": {
  "kernelspec": {
   "display_name": "tree-sitter-env",
   "language": "python",
   "name": "tree-sitter-env"
  },
  "language_info": {
   "codemirror_mode": {
    "name": "ipython",
    "version": 3
   },
   "file_extension": ".py",
   "mimetype": "text/x-python",
   "name": "python",
   "nbconvert_exporter": "python",
   "pygments_lexer": "ipython3",
   "version": "3.10.6"
  }
 },
 "nbformat": 4,
 "nbformat_minor": 5
}
