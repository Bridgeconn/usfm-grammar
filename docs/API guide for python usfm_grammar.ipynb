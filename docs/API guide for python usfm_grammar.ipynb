{
 "cells": [
  {
   "cell_type": "markdown",
   "id": "a7b8c9b4",
   "metadata": {},
   "source": [
    "## How to use the usfm-grammar python APIs\n"
   ]
  },
  {
   "cell_type": "markdown",
   "id": "eb38154b",
   "metadata": {},
   "source": [
    "### Installation"
   ]
  },
  {
   "cell_type": "markdown",
   "id": "d55330bb",
   "metadata": {},
   "source": [
    "#### From PyPI"
   ]
  },
  {
   "cell_type": "code",
   "execution_count": null,
   "id": "23545d40",
   "metadata": {},
   "outputs": [],
   "source": [
    "# Good to set up a virtual environment\n",
    "# requires python >= 3.10\n",
    "!pip install usfm-grammar"
   ]
  },
  {
   "cell_type": "markdown",
   "id": "228ebb44",
   "metadata": {},
   "source": [
    "#### From code base"
   ]
  },
  {
   "cell_type": "code",
   "execution_count": null,
   "id": "54841666",
   "metadata": {},
   "outputs": [],
   "source": [
    "! pip install -e ./../py-usfm-parser/ # from the code base"
   ]
  },
  {
   "cell_type": "code",
   "execution_count": null,
   "id": "ba23e32e",
   "metadata": {},
   "outputs": [],
   "source": []
  },
  {
   "cell_type": "code",
   "execution_count": null,
   "id": "8367ed3b",
   "metadata": {},
   "outputs": [],
   "source": [
    "! usfm-grammar -h # to view the command line options"
   ]
  },
  {
   "cell_type": "code",
   "execution_count": null,
   "id": "b3d034a2",
   "metadata": {},
   "outputs": [],
   "source": [
    "# to bring the changes, after update on the local tree-sitter-usfm grammar\n",
    "# in terminal from the project root run the following\n",
    "# >>> python python-usfm-parser/src/grammar_rebuild.py ./tree-sitter-usfm3/ python-usfm-parser/src/usfm_grammar/my-languages.so"
   ]
  },
  {
   "cell_type": "markdown",
   "id": "78c03466",
   "metadata": {},
   "source": [
    "### Parsing an input USFM"
   ]
  },
  {
   "cell_type": "code",
   "execution_count": 2,
   "id": "5d06e40a",
   "metadata": {},
   "outputs": [],
   "source": [
    "from usfm_grammar import USFMParser, Filter # importing from the local module, not from an installed library"
   ]
  },
  {
   "cell_type": "code",
   "execution_count": 3,
   "id": "932320b5",
   "metadata": {},
   "outputs": [],
   "source": [
    "input_usfm_str = '''\n",
    "\\\\id EXO 02EXOGNT92.SFM, Good News Translation, June 2003\n",
    "\\\\h പുറപ്പാടു്\n",
    "\\\\toc1 പുറപ്പാടു്\n",
    "\\\\toc2 പുറപ്പാടു്\n",
    "\\\\mt പുറപ്പാടു്\n",
    "\\\\c 1\n",
    "\\\\p\n",
    "\\\\v 1 യാക്കോബിനോടുകൂടെ കുടുംബസഹിതം ഈജിപ്റ്റിൽ വന്ന \n",
    "\\\\p യിസ്രായേൽമക്കളുടെ പേരുകൾ : \n",
    "\\\\v 2 രൂബേൻ, ശിമെയോൻ, ലേവി,\n",
    "\\\\v 3 \n",
    "\\\\li1 യെഹൂദാ, \n",
    "\\\\li1 യിസ്സാഖാർ, \n",
    "\\\\li1 സെബൂലൂൻ, \n",
    "\\\\li1 ബെന്യാമീൻ\n",
    "\\\\p\n",
    "\\\\v 4 ദാൻ, നഫ്താലി, ഗാദ്, ആശേർ.\n",
    "\\\\v 12-83 They presented their offerings in the following order:\n",
    "\\\\tr \\\\th1 Day \\\\th2 Tribe \\\\th3 Leader\n",
    "\\\\tr \\\\tcr1 1st \\\\tc2 Judah \\\\tc3 Nahshon son of Amminadab\n",
    "\\\\tr \\\\tcr1 2nd \\\\tc2 Issachar \\\\tc3 Nethanel son of Zuar\n",
    "\\\\tr \\\\tcr1 3rd \\\\tc2 Zebulun \\\\tc3 Eliab son of Helon\n",
    "\\\\p\n",
    "\\\\v 5 യാക്കോബിന്റെ സന്താനപരമ്പരകൾ എല്ലാം കൂടി എഴുപതു പേർ ആയിരുന്നു; യോസേഫ് മുമ്പെ തന്നെ ഈജിപ്റ്റിൽ ആയിരുന്നു. \\\\w gracious \\\\+nd Lord\\\\+nd*|grace\\\\w* and then a few words later \\w gracious|lemma=\"grace\" x-myattr=\"metadata\"\\w*\n",
    "\\\\c 2\n",
    "\\\\s1 A Prayer of Habakkuk\n",
    "\\\\p\n",
    "\\\\v 1 This is a prayer of the prophet Habakkuk:\n",
    "\\\\b\n",
    "\\\\q1\n",
    "\\\\v 2 O \\\\nd Lord\\\\nd*, I have heard of what you have done,\n",
    "\\\\q2 and I am filled with awe.\n",
    "\\\\q1 Now do again in our times\n",
    "\\\\q2 the great deeds you used to do.\n",
    "\\\\q1 Be merciful, even when you are angry.\n",
    "\\\\p\n",
    "\\\\v 20 Adam \\\\f + \\\\fr 3.20: \\\\fk Adam: \\\\ft This name in Hebrew means “all human beings.”\\\\f*\n",
    "named his wife Eve, \\\\f + \\\\fr 3.20: \\\\fk Eve: \\\\ft This name sounds similar to the Hebrew\n",
    "word for “living,” which is rendered in this context as “human beings.”\\\\f* because she\n",
    "was the mother of all human beings.\n",
    "\\\\v 21 And the \\\\nd Lord\\\\nd* God made clothes out of animal skins for Adam and his wife,\n",
    "and he clothed them.\n",
    "\\\\qt-s |sid=\"qt_123\" who=\"Pilate\"\\\\*“Are you the king of the Jews?”\\\\qt-e |eid=\"qt_123\"\\\\*\n",
    "\\\\esb \\\\cat History\\\\cat*\n",
    "\\\\ms Fish and Fishing\n",
    "\\\\p In Jesus' time, fishing took place mostly on lake Galilee, because Jewish people\n",
    "could not use many of the harbors along the coast of the Mediterranean Sea, since these\n",
    "harbors were often controlled by unfriendly neighbors. The most common fish in the Lake\n",
    "of Galilee were carp and catfish. \\\\wj The Law of Moses \\\\wj* allowed people to eat any fish with\n",
    "fins and scales, but since catfish lack scales (as do eels and sharks) they were not to\n",
    "be eaten. Fish were also probably brought from Tyre and Sidon,\n",
    "where they were dried and salted.\n",
    "...\n",
    "\\\\p Among early Christians, the fish was a favorite image for Jesus, because the Greek\n",
    "word for fish ( \\\\tl ichthus\\\\tl* ) consists of the first letters of the Greek words that\n",
    "tell who Jesus is: \\\\fig Christian Fish Image\\\\fig*\n",
    "\\\\esbe\n",
    "'''"
   ]
  },
  {
   "cell_type": "code",
   "execution_count": 4,
   "id": "ad92e648",
   "metadata": {},
   "outputs": [],
   "source": [
    "my_parser = USFMParser(input_usfm_str)"
   ]
  },
  {
   "cell_type": "code",
   "execution_count": 5,
   "id": "758fc216",
   "metadata": {},
   "outputs": [],
   "source": [
    "# To validate the input USFM file. \n",
    "# The rest of operations will work even if there are small errors\n",
    "my_parser.errors "
   ]
  },
  {
   "cell_type": "markdown",
   "id": "c2b619c6",
   "metadata": {},
   "source": [
    "#### Converting to other formats and extracting specific contents via filters"
   ]
  },
  {
   "cell_type": "code",
   "execution_count": 6,
   "id": "9aa16315",
   "metadata": {},
   "outputs": [
    {
     "data": {
      "text/plain": [
       "{'type': 'USJ',\n",
       " 'version': '0.1.0',\n",
       " 'content': [{'type': 'book:id',\n",
       "   'content': ['02EXOGNT92.SFM, Good News Translation, June 2003'],\n",
       "   'code': 'EXO'},\n",
       "  {'type': 'para:h', 'content': ['പുറപ്പാടു്']},\n",
       "  {'type': 'para:toc1', 'content': ['പുറപ്പാടു്']},\n",
       "  {'type': 'para:toc2', 'content': ['പുറപ്പാടു്']},\n",
       "  {'type': 'para:mt', 'content': ['പുറപ്പാടു്']},\n",
       "  {'type': 'chapter:c', 'number': '1', 'sid': 'EXO 1'},\n",
       "  {'type': 'para:p',\n",
       "   'content': [{'type': 'verse:v', 'number': '1', 'sid': 'EXO 1:1'},\n",
       "    'യാക്കോബിനോടുകൂടെ കുടുംബസഹിതം ഈജിപ്റ്റിൽ വന്ന']},\n",
       "  {'type': 'para:p',\n",
       "   'content': ['യിസ്രായേൽമക്കളുടെ പേരുകൾ :',\n",
       "    {'type': 'verse:v', 'number': '2', 'sid': 'EXO 1:2'},\n",
       "    'രൂബേൻ, ശിമെയോൻ, ലേവി,',\n",
       "    {'type': 'verse:v', 'number': '3', 'sid': 'EXO 1:3'}]},\n",
       "  {'type': 'para:li1', 'content': ['യെഹൂദാ,']},\n",
       "  {'type': 'para:li1', 'content': ['യിസ്സാഖാർ,']},\n",
       "  {'type': 'para:li1', 'content': ['സെബൂലൂൻ,']},\n",
       "  {'type': 'para:li1', 'content': ['ബെന്യാമീൻ']},\n",
       "  {'type': 'para:p',\n",
       "   'content': [{'type': 'verse:v', 'number': '4', 'sid': 'EXO 1:4'},\n",
       "    'ദാൻ, നഫ്താലി, ഗാദ്, ആശേർ.',\n",
       "    {'type': 'verse:v', 'number': '12-83', 'sid': 'EXO 1:12-83'},\n",
       "    'They presented their offerings in the following order:']},\n",
       "  {'type': 'table',\n",
       "   'content': [{'type': 'table:row:tr',\n",
       "     'content': [{'type': 'table:cell:th1',\n",
       "       'content': ['Day'],\n",
       "       'align': 'start'},\n",
       "      {'type': 'table:cell:th2', 'content': ['Tribe'], 'align': 'start'},\n",
       "      {'type': 'table:cell:th3', 'content': ['Leader'], 'align': 'start'}]},\n",
       "    {'type': 'table:row:tr',\n",
       "     'content': [{'type': 'table:cell:tcr1',\n",
       "       'content': ['1st'],\n",
       "       'align': 'end'},\n",
       "      {'type': 'table:cell:tc2', 'content': ['Judah'], 'align': 'start'},\n",
       "      {'type': 'table:cell:tc3',\n",
       "       'content': ['Nahshon son of Amminadab'],\n",
       "       'align': 'start'}]},\n",
       "    {'type': 'table:row:tr',\n",
       "     'content': [{'type': 'table:cell:tcr1',\n",
       "       'content': ['2nd'],\n",
       "       'align': 'end'},\n",
       "      {'type': 'table:cell:tc2', 'content': ['Issachar'], 'align': 'start'},\n",
       "      {'type': 'table:cell:tc3',\n",
       "       'content': ['Nethanel son of Zuar'],\n",
       "       'align': 'start'}]},\n",
       "    {'type': 'table:row:tr',\n",
       "     'content': [{'type': 'table:cell:tcr1',\n",
       "       'content': ['3rd'],\n",
       "       'align': 'end'},\n",
       "      {'type': 'table:cell:tc2', 'content': ['Zebulun'], 'align': 'start'},\n",
       "      {'type': 'table:cell:tc3',\n",
       "       'content': ['Eliab son of Helon'],\n",
       "       'align': 'start'}]}]},\n",
       "  {'type': 'para:p',\n",
       "   'content': [{'type': 'verse:v', 'number': '5', 'sid': 'EXO 1:5'},\n",
       "    'യാക്കോബിന്റെ സന്താനപരമ്പരകൾ എല്ലാം കൂടി എഴുപതു പേർ ആയിരുന്നു; യോസേഫ് മുമ്പെ തന്നെ ഈജിപ്റ്റിൽ ആയിരുന്നു.',\n",
       "    {'type': 'char:w',\n",
       "     'content': ['gracious', {'type': 'char:nd', 'content': ['Lord']}],\n",
       "     'lemma': 'grace'},\n",
       "    'and then a few words later',\n",
       "    {'type': 'char:w',\n",
       "     'content': ['gracious'],\n",
       "     'lemma': 'grace',\n",
       "     'x-myattr': 'metadata'},\n",
       "    '']},\n",
       "  {'type': 'chapter:c', 'number': '2', 'sid': 'EXO 2'},\n",
       "  {'type': 'para:s1', 'content': ['A Prayer of Habakkuk']},\n",
       "  {'type': 'para:p',\n",
       "   'content': [{'type': 'verse:v', 'number': '1', 'sid': 'EXO 2:1'},\n",
       "    'This is a prayer of the prophet Habakkuk:',\n",
       "    {'type': 'optbreak:b'}]},\n",
       "  {'type': 'para:q1',\n",
       "   'content': [{'type': 'verse:v', 'number': '2', 'sid': 'EXO 2:2'},\n",
       "    'O',\n",
       "    {'type': 'char:nd', 'content': ['Lord']},\n",
       "    ', I have heard of what you have done,']},\n",
       "  {'type': 'para:q2', 'content': ['and I am filled with awe.']},\n",
       "  {'type': 'para:q1', 'content': ['Now do again in our times']},\n",
       "  {'type': 'para:q2', 'content': ['the great deeds you used to do.']},\n",
       "  {'type': 'para:q1', 'content': ['Be merciful, even when you are angry.']},\n",
       "  {'type': 'para:p',\n",
       "   'content': [{'type': 'verse:v', 'number': '20', 'sid': 'EXO 2:20'},\n",
       "    'Adam',\n",
       "    {'type': 'note:f',\n",
       "     'content': ['',\n",
       "      {'type': 'char:fr', 'content': ['3.20:']},\n",
       "      {'type': 'char:fk', 'content': ['Adam:']},\n",
       "      {'type': 'char:ft',\n",
       "       'content': ['This name in Hebrew means “all human beings.”']}],\n",
       "     'caller': '+'},\n",
       "    'named his wife Eve,',\n",
       "    {'type': 'note:f',\n",
       "     'content': ['',\n",
       "      {'type': 'char:fr', 'content': ['3.20:']},\n",
       "      {'type': 'char:fk', 'content': ['Eve:']},\n",
       "      {'type': 'char:ft',\n",
       "       'content': ['This name sounds similar to the Hebrew\\nword for “living,” which is rendered in this context as “human beings.”']}],\n",
       "     'caller': '+'},\n",
       "    'because she\\nwas the mother of all human beings.',\n",
       "    {'type': 'verse:v', 'number': '21', 'sid': 'EXO 2:21'},\n",
       "    'And the',\n",
       "    {'type': 'char:nd', 'content': ['Lord']},\n",
       "    'God made clothes out of animal skins for Adam and his wife,\\nand he clothed them.',\n",
       "    {'type': 'ms:qt-s', 'sid': 'qt_123', 'who': 'Pilate'},\n",
       "    '“Are you the king of the Jews?”',\n",
       "    {'type': 'ms:qt-e', 'eid': 'qt_123'},\n",
       "    '']},\n",
       "  {'type': 'sidebar:esb',\n",
       "   'content': [{'type': 'para:ms', 'content': ['Fish and Fishing']},\n",
       "    {'type': 'para:p',\n",
       "     'content': [\"In Jesus' time, fishing took place mostly on lake Galilee, because Jewish people\\ncould not use many of the harbors along the coast of the Mediterranean Sea, since these\\nharbors were often controlled by unfriendly neighbors. The most common fish in the Lake\\nof Galilee were carp and catfish.\",\n",
       "      {'type': 'char:wj', 'content': ['The Law of Moses']},\n",
       "      'allowed people to eat any fish with\\nfins and scales, but since catfish lack scales (as do eels and sharks) they were not to\\nbe eaten. Fish were also probably brought from Tyre and Sidon,\\nwhere they were dried and salted.\\n...']},\n",
       "    {'type': 'para:p',\n",
       "     'content': ['Among early Christians, the fish was a favorite image for Jesus, because the Greek\\nword for fish (',\n",
       "      {'type': 'char:tl', 'content': ['ichthus']},\n",
       "      ') consists of the first letters of the Greek words that\\ntell who Jesus is:',\n",
       "      {'type': 'figure:fig', 'content': ['Christian Fish Image']},\n",
       "      '']}],\n",
       "   'category': 'History'}]}"
      ]
     },
     "execution_count": 6,
     "metadata": {},
     "output_type": "execute_result"
    }
   ],
   "source": [
    "my_parser.to_usj()"
   ]
  },
  {
   "cell_type": "code",
   "execution_count": null,
   "id": "c5b4d79f",
   "metadata": {},
   "outputs": [],
   "source": [
    "my_parser.to_usj(exclude_markers=['s1','h', 'toc1','toc2','mt','b', #inner contents gone\n",
    "                                  'p','q1','q2', # inner content got preserved and moved one layer up(falttened)\n",
    "                                  'w','nd',# inner content got preserved...\n",
    "                                  'tr','tc2','tcr1', 'tc3', 'th1','th2', 'th3','table',# inner content got preserved...\n",
    "                                  'li1', # inner content got preserved...\n",
    "                                  'esb','f', #inner contents gone\n",
    "                                 ],\n",
    "                 # combine_texts=False\n",
    "                )"
   ]
  },
  {
   "cell_type": "code",
   "execution_count": 7,
   "id": "ba0b92d5",
   "metadata": {},
   "outputs": [
    {
     "data": {
      "text/plain": [
       "{'type': 'USJ',\n",
       " 'version': '0.1.0',\n",
       " 'content': [{'type': 'book:id',\n",
       "   'content': ['02EXOGNT92.SFM, Good News Translation, June 2003'],\n",
       "   'code': 'EXO'},\n",
       "  {'type': 'chapter:c', 'number': '1', 'sid': 'EXO 1', 'content': []},\n",
       "  {'type': 'verse:v', 'number': '1', 'sid': 'EXO 1:1', 'content': []},\n",
       "  'യാക്കോബിനോടുകൂടെ കുടുംബസഹിതം ഈജിപ്റ്റിൽ വന്ന യിസ്രായേൽമക്കളുടെ പേരുകൾ :',\n",
       "  {'type': 'verse:v', 'number': '2', 'sid': 'EXO 1:2', 'content': []},\n",
       "  'രൂബേൻ, ശിമെയോൻ, ലേവി,',\n",
       "  {'type': 'verse:v', 'number': '3', 'sid': 'EXO 1:3', 'content': []},\n",
       "  'യെഹൂദാ, യിസ്സാഖാർ, സെബൂലൂൻ, ബെന്യാമീൻ',\n",
       "  {'type': 'verse:v', 'number': '4', 'sid': 'EXO 1:4', 'content': []},\n",
       "  'ദാൻ, നഫ്താലി, ഗാദ്, ആശേർ.',\n",
       "  {'type': 'verse:v', 'number': '12-83', 'sid': 'EXO 1:12-83', 'content': []},\n",
       "  'They presented their offerings in the following order: Day Tribe Leader 1st Judah Nahshon son of Amminadab 2nd Issachar Nethanel son of Zuar 3rd Zebulun Eliab son of Helon',\n",
       "  {'type': 'verse:v', 'number': '5', 'sid': 'EXO 1:5', 'content': []},\n",
       "  'യാക്കോബിന്റെ സന്താനപരമ്പരകൾ എല്ലാം കൂടി എഴുപതു പേർ ആയിരുന്നു; യോസേഫ് മുമ്പെ തന്നെ ഈജിപ്റ്റിൽ ആയിരുന്നു. gracious Lord and then a few words later gracious ',\n",
       "  {'type': 'chapter:c', 'number': '2', 'sid': 'EXO 2', 'content': []},\n",
       "  {'type': 'verse:v', 'number': '1', 'sid': 'EXO 2:1', 'content': []},\n",
       "  'This is a prayer of the prophet Habakkuk:',\n",
       "  {'type': 'verse:v', 'number': '2', 'sid': 'EXO 2:2', 'content': []},\n",
       "  'O Lord, I have heard of what you have done, and I am filled with awe. Now do again in our times the great deeds you used to do. Be merciful, even when you are angry.',\n",
       "  {'type': 'verse:v', 'number': '20', 'sid': 'EXO 2:20', 'content': []},\n",
       "  'Adam named his wife Eve, because she\\nwas the mother of all human beings.',\n",
       "  {'type': 'verse:v', 'number': '21', 'sid': 'EXO 2:21', 'content': []},\n",
       "  'And the Lord God made clothes out of animal skins for Adam and his wife,\\nand he clothed them. “Are you the king of the Jews?” ']}"
      ]
     },
     "execution_count": 7,
     "metadata": {},
     "output_type": "execute_result"
    }
   ],
   "source": [
    "my_parser.to_usj(include_markers=Filter.BCV+Filter.TEXT,\n",
    "                 combine_texts=True\n",
    "                )"
   ]
  },
  {
   "cell_type": "code",
   "execution_count": null,
   "id": "e4f49981",
   "metadata": {},
   "outputs": [],
   "source": [
    "my_parser.to_usj(exclude_markers=Filter.BOOK_HEADERS+Filter.TITLES+Filter.COMMENTS,\n",
    "                 # combine_texts=False\n",
    "                )"
   ]
  },
  {
   "cell_type": "code",
   "execution_count": null,
   "id": "20054f9a-4113-4537-83ff-f31768727f14",
   "metadata": {},
   "outputs": [],
   "source": [
    "# For a Flattened JSON\n",
    "my_parser.to_usj(exclude_markers=Filter.PARAGRAPHS+Filter.CHARACTERS\n",
    "                 # combine_texts=False\n",
    "                )"
   ]
  },
  {
   "cell_type": "code",
   "execution_count": null,
   "id": "e4e5d1fd-203f-41b3-9c88-4f9807b445d8",
   "metadata": {},
   "outputs": [],
   "source": [
    "Filter.PARAGRAPHS"
   ]
  },
  {
   "cell_type": "code",
   "execution_count": null,
   "id": "ed65d7d6-71b3-4cc0-b524-017e913245df",
   "metadata": {},
   "outputs": [],
   "source": [
    "# For eliminating the Text as well from the excluded markers(here, pargraphs and characters)\n",
    "my_parser.to_usj(exclude_markers=Filter.PARAGRAPHS+Filter.CHARACTERS+Filter.TEXT\n",
    "                 # combine_texts=False\n",
    "                )"
   ]
  },
  {
   "cell_type": "code",
   "execution_count": 8,
   "id": "cf59a547",
   "metadata": {
    "scrolled": true
   },
   "outputs": [],
   "source": [
    "table_output = my_parser.to_list()\n",
    "# table_output\n"
   ]
  },
  {
   "cell_type": "code",
   "execution_count": 9,
   "id": "f56bc71d",
   "metadata": {},
   "outputs": [
    {
     "name": "stdout",
     "output_type": "stream",
     "text": [
      "Book\tChapter\tVerse\tText\tType\n",
      "EXO\t\t\t02EXOGNT92.SFM, Good News Translation, June 2003\tbook:id\n",
      "EXO\t\t\tപുറപ്പാടു്\tpara:h\n",
      "EXO\t\t\tപുറപ്പാടു്\tpara:toc1\n",
      "EXO\t\t\tപുറപ്പാടു്\tpara:toc2\n",
      "EXO\t\t\tപുറപ്പാടു്\tpara:mt\n",
      "EXO\t1\t1\tയാക്കോബിനോടുകൂടെ കുടുംബസഹിതം ഈജിപ്റ്റിൽ വന്ന\tpara:p\n",
      "EXO\t1\t1\tയിസ്രായേൽമക്കളുടെ പേരുകൾ :\tpara:p\n",
      "EXO\t1\t2\tരൂബേൻ, ശിമെയോൻ, ലേവി,\tpara:p\n",
      "EXO\t1\t3\tയെഹൂദാ,\tpara:li1\n",
      "EXO\t1\t3\tയിസ്സാഖാർ,\tpara:li1\n",
      "EXO\t1\t3\tസെബൂലൂൻ,\tpara:li1\n",
      "EXO\t1\t3\tബെന്യാമീൻ\tpara:li1\n",
      "EXO\t1\t4\tദാൻ, നഫ്താലി, ഗാദ്, ആശേർ.\tpara:p\n",
      "EXO\t1\t12-83\tThey presented their offerings in the following order:\tpara:p\n",
      "EXO\t1\t12-83\tDay\ttable:cell:th1\n",
      "EXO\t1\t12-83\tTribe\ttable:cell:th2\n",
      "EXO\t1\t12-83\tLeader\ttable:cell:th3\n",
      "EXO\t1\t12-83\t1st\ttable:cell:tcr1\n",
      "EXO\t1\t12-83\tJudah\ttable:cell:tc2\n",
      "EXO\t1\t12-83\tNahshon son of Amminadab\ttable:cell:tc3\n",
      "EXO\t1\t12-83\t2nd\ttable:cell:tcr1\n",
      "EXO\t1\t12-83\tIssachar\ttable:cell:tc2\n",
      "EXO\t1\t12-83\tNethanel son of Zuar\ttable:cell:tc3\n",
      "EXO\t1\t12-83\t3rd\ttable:cell:tcr1\n",
      "EXO\t1\t12-83\tZebulun\ttable:cell:tc2\n",
      "EXO\t1\t12-83\tEliab son of Helon\ttable:cell:tc3\n",
      "EXO\t1\t5\tയാക്കോബിന്റെ സന്താനപരമ്പരകൾ എല്ലാം കൂടി എഴുപതു പേർ ആയിരുന്നു; യോസേഫ് മുമ്പെ തന്നെ ഈജിപ്റ്റിൽ ആയിരുന്നു.\tpara:p\n",
      "EXO\t1\t5\tgracious\tchar:w\n",
      "EXO\t1\t5\tLord\tchar:nd\n",
      "EXO\t1\t5\tand then a few words later\tpara:p\n",
      "EXO\t1\t5\tgracious\tchar:w\n",
      "EXO\t1\t5\t\tpara:p\n",
      "EXO\t2\t5\tA Prayer of Habakkuk\tpara:s1\n",
      "EXO\t2\t1\tThis is a prayer of the prophet Habakkuk:\tpara:p\n",
      "EXO\t2\t2\tO\tpara:q1\n",
      "EXO\t2\t2\tLord\tchar:nd\n",
      "EXO\t2\t2\t, I have heard of what you have done,\tpara:q1\n",
      "EXO\t2\t2\tand I am filled with awe.\tpara:q2\n",
      "EXO\t2\t2\tNow do again in our times\tpara:q1\n",
      "EXO\t2\t2\tthe great deeds you used to do.\tpara:q2\n",
      "EXO\t2\t2\tBe merciful, even when you are angry.\tpara:q1\n",
      "EXO\t2\t20\tAdam\tpara:p\n",
      "EXO\t2\t20\t\tnote:f\n",
      "EXO\t2\t20\t3.20:\tchar:fr\n",
      "EXO\t2\t20\tAdam:\tchar:fk\n",
      "EXO\t2\t20\tThis name in Hebrew means “all human beings.”\tchar:ft\n",
      "EXO\t2\t20\tnamed his wife Eve,\tpara:p\n",
      "EXO\t2\t20\t\tnote:f\n",
      "EXO\t2\t20\t3.20:\tchar:fr\n",
      "EXO\t2\t20\tEve:\tchar:fk\n",
      "EXO\t2\t20\tThis name sounds similar to the Hebrew\n",
      "word for “living,” which is rendered in this context as “human beings.”\tchar:ft\n",
      "EXO\t2\t20\tbecause she\n",
      "was the mother of all human beings.\tpara:p\n",
      "EXO\t2\t21\tAnd the\tpara:p\n",
      "EXO\t2\t21\tLord\tchar:nd\n",
      "EXO\t2\t21\tGod made clothes out of animal skins for Adam and his wife,\n",
      "and he clothed them.\tpara:p\n",
      "EXO\t2\t21\t“Are you the king of the Jews?”\tpara:p\n",
      "EXO\t2\t21\t\tpara:p\n",
      "EXO\t2\t21\tFish and Fishing\tpara:ms\n",
      "EXO\t2\t21\tIn Jesus' time, fishing took place mostly on lake Galilee, because Jewish people\n",
      "could not use many of the harbors along the coast of the Mediterranean Sea, since these\n",
      "harbors were often controlled by unfriendly neighbors. The most common fish in the Lake\n",
      "of Galilee were carp and catfish.\tpara:p\n",
      "EXO\t2\t21\tThe Law of Moses\tchar:wj\n",
      "EXO\t2\t21\tallowed people to eat any fish with\n",
      "fins and scales, but since catfish lack scales (as do eels and sharks) they were not to\n",
      "be eaten. Fish were also probably brought from Tyre and Sidon,\n",
      "where they were dried and salted.\n",
      "...\tpara:p\n",
      "EXO\t2\t21\tAmong early Christians, the fish was a favorite image for Jesus, because the Greek\n",
      "word for fish (\tpara:p\n",
      "EXO\t2\t21\tichthus\tchar:tl\n",
      "EXO\t2\t21\t) consists of the first letters of the Greek words that\n",
      "tell who Jesus is:\tpara:p\n",
      "EXO\t2\t21\tChristian Fish Image\tfigure:fig\n",
      "EXO\t2\t21\t\tpara:p\n"
     ]
    }
   ],
   "source": [
    "print(\"\\n\".join([\"\\t\".join(row) for row in table_output]))"
   ]
  },
  {
   "cell_type": "code",
   "execution_count": null,
   "id": "6db3993e",
   "metadata": {},
   "outputs": [],
   "source": []
  },
  {
   "cell_type": "code",
   "execution_count": null,
   "id": "e6fa8566",
   "metadata": {},
   "outputs": [],
   "source": [
    "table_output = my_parser.to_list(exclude_markers=Filter.BOOK_HEADERS+Filter.TITLES+Filter.COMMENTS)\n",
    "print(\"\\n\".join([\"\\t\".join(row) for row in table_output]))\n"
   ]
  },
  {
   "cell_type": "code",
   "execution_count": 10,
   "id": "d7b6c4d0",
   "metadata": {},
   "outputs": [
    {
     "name": "stdout",
     "output_type": "stream",
     "text": [
      "Book\tChapter\tVerse\tText\tType\n",
      "EXO\t\t\t02EXOGNT92.SFM, Good News Translation, June 2003\tbook:id\n",
      "EXO\t1\t1\tയാക്കോബിനോടുകൂടെ കുടുംബസഹിതം ഈജിപ്റ്റിൽ വന്ന യിസ്രായേൽമക്കളുടെ പേരുകൾ :\t\n",
      "EXO\t1\t2\tരൂബേൻ, ശിമെയോൻ, ലേവി,\t\n",
      "EXO\t1\t3\tയെഹൂദാ, യിസ്സാഖാർ, സെബൂലൂൻ, ബെന്യാമീൻ\t\n",
      "EXO\t1\t4\tദാൻ, നഫ്താലി, ഗാദ്, ആശേർ.\t\n",
      "EXO\t1\t12-83\tThey presented their offerings in the following order: Day Tribe Leader 1st Judah Nahshon son of Amminadab 2nd Issachar Nethanel son of Zuar 3rd Zebulun Eliab son of Helon\t\n",
      "EXO\t1\t5\tയാക്കോബിന്റെ സന്താനപരമ്പരകൾ എല്ലാം കൂടി എഴുപതു പേർ ആയിരുന്നു; യോസേഫ് മുമ്പെ തന്നെ ഈജിപ്റ്റിൽ ആയിരുന്നു. gracious Lord and then a few words later gracious \t\n",
      "EXO\t2\t1\tThis is a prayer of the prophet Habakkuk:\t\n",
      "EXO\t2\t2\tO Lord, I have heard of what you have done, and I am filled with awe. Now do again in our times the great deeds you used to do. Be merciful, even when you are angry.\t\n",
      "EXO\t2\t20\tAdam named his wife Eve, because she\n",
      "was the mother of all human beings.\t\n",
      "EXO\t2\t21\tAnd the Lord God made clothes out of animal skins for Adam and his wife,\n",
      "and he clothed them. “Are you the king of the Jews?” \t\n"
     ]
    }
   ],
   "source": [
    "table_output = my_parser.to_list(include_markers=Filter.BCV+Filter.TEXT)\n",
    "print(\"\\n\".join([\"\\t\".join(row) for row in table_output]))"
   ]
  },
  {
   "cell_type": "code",
   "execution_count": 11,
   "id": "43049bb6",
   "metadata": {},
   "outputs": [
    {
     "name": "stdout",
     "output_type": "stream",
     "text": [
      "Book\tChapter\tVerse\tText\tType\n",
      "EXO\t\t\t02EXOGNT92.SFM, Good News Translation, June 2003\tbook:id\n",
      "EXO\t2\t20\t3.20:\tchar:fr\n",
      "EXO\t2\t20\tAdam:\tchar:fk\n",
      "EXO\t2\t20\tThis name in Hebrew means “all human beings.”\tchar:ft\n",
      "EXO\t2\t20\t3.20:\tchar:fr\n",
      "EXO\t2\t20\tEve:\tchar:fk\n",
      "EXO\t2\t20\tThis name sounds similar to the Hebrew\n",
      "word for “living,” which is rendered in this context as “human beings.”\tchar:ft\n"
     ]
    }
   ],
   "source": [
    "table_output = my_parser.to_list(include_markers=Filter.NOTES)\n",
    "print(\"\\n\".join([\"\\t\".join(row) for row in table_output]))\n"
   ]
  },
  {
   "cell_type": "code",
   "execution_count": null,
   "id": "3f14c2b0",
   "metadata": {},
   "outputs": [],
   "source": []
  },
  {
   "cell_type": "code",
   "execution_count": null,
   "id": "fe450f35",
   "metadata": {},
   "outputs": [],
   "source": []
  },
  {
   "cell_type": "code",
   "execution_count": null,
   "id": "38a6d3fb",
   "metadata": {},
   "outputs": [],
   "source": [
    "from lxml import etree\n",
    "usx_elem = my_parser.to_usx()\n",
    "usx_str = etree.tostring(usx_elem, encoding=\"unicode\", pretty_print=True) \n",
    "print(usx_str)"
   ]
  },
  {
   "cell_type": "code",
   "execution_count": null,
   "id": "6359c463",
   "metadata": {},
   "outputs": [],
   "source": []
  },
  {
   "cell_type": "markdown",
   "id": "2a9162ca",
   "metadata": {},
   "source": [
    "#### To work with the syntax tree itself"
   ]
  },
  {
   "cell_type": "code",
   "execution_count": null,
   "id": "818e36d9",
   "metadata": {},
   "outputs": [],
   "source": [
    "my_st = my_parser.syntax_tree\n",
    "print(my_st.children)"
   ]
  },
  {
   "cell_type": "code",
   "execution_count": null,
   "id": "295dae47",
   "metadata": {},
   "outputs": [],
   "source": []
  },
  {
   "cell_type": "code",
   "execution_count": null,
   "id": "acc803bc",
   "metadata": {},
   "outputs": [],
   "source": []
  },
  {
   "cell_type": "code",
   "execution_count": null,
   "id": "5a8cef41",
   "metadata": {},
   "outputs": [],
   "source": [
    "# to just view the syntax-tree\n",
    "print(my_parser.to_syntax_tree())"
   ]
  },
  {
   "cell_type": "code",
   "execution_count": null,
   "id": "2bd40ba2",
   "metadata": {},
   "outputs": [],
   "source": []
  },
  {
   "cell_type": "code",
   "execution_count": null,
   "id": "a680a0b6",
   "metadata": {},
   "outputs": [],
   "source": []
  },
  {
   "cell_type": "code",
   "execution_count": null,
   "id": "0fac8a56",
   "metadata": {},
   "outputs": [],
   "source": []
  },
  {
   "cell_type": "code",
   "execution_count": null,
   "id": "d4e0c784",
   "metadata": {},
   "outputs": [],
   "source": []
  },
  {
   "cell_type": "code",
   "execution_count": null,
   "id": "1ea6bb28",
   "metadata": {},
   "outputs": [],
   "source": []
  },
  {
   "cell_type": "code",
   "execution_count": null,
   "id": "dc42b6af",
   "metadata": {},
   "outputs": [],
   "source": []
  }
 ],
 "metadata": {
  "kernelspec": {
   "display_name": "ENV-usfm-grammar-dev",
   "language": "python",
   "name": "env-usfm-grammar-dev"
  },
  "language_info": {
   "codemirror_mode": {
    "name": "ipython",
    "version": 3
   },
   "file_extension": ".py",
   "mimetype": "text/x-python",
   "name": "python",
   "nbconvert_exporter": "python",
   "pygments_lexer": "ipython3",
   "version": "3.10.12"
  }
 },
 "nbformat": 4,
 "nbformat_minor": 5
}
