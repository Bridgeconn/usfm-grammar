{
 "cells": [
  {
   "cell_type": "markdown",
   "id": "a7b8c9b4",
   "metadata": {},
   "source": [
    "## How to use the usfm-grammar python APIs\n"
   ]
  },
  {
   "cell_type": "markdown",
   "id": "eb38154b",
   "metadata": {},
   "source": [
    "### Installation"
   ]
  },
  {
   "cell_type": "markdown",
   "id": "d55330bb",
   "metadata": {},
   "source": [
    "#### From PyPI"
   ]
  },
  {
   "cell_type": "code",
   "execution_count": null,
   "id": "23545d40",
   "metadata": {},
   "outputs": [],
   "source": [
    "# Good to set up a virtual environment\n",
    "# requires python >= 3.10\n",
    "!pip install usfm-grammar"
   ]
  },
  {
   "cell_type": "markdown",
   "id": "228ebb44",
   "metadata": {},
   "source": [
    "#### From code base"
   ]
  },
  {
   "cell_type": "code",
   "execution_count": null,
   "id": "54841666",
   "metadata": {},
   "outputs": [],
   "source": [
    "! pip install -e ./../python-usfm-parser/ # from the code base"
   ]
  },
  {
   "cell_type": "code",
   "execution_count": null,
   "id": "ba23e32e",
   "metadata": {},
   "outputs": [],
   "source": []
  },
  {
   "cell_type": "code",
   "execution_count": null,
   "id": "8367ed3b",
   "metadata": {},
   "outputs": [],
   "source": [
    "! usfm-grammar -h # to view the command line options"
   ]
  },
  {
   "cell_type": "code",
   "execution_count": null,
   "id": "b3d034a2",
   "metadata": {},
   "outputs": [],
   "source": [
    "# to bring the changes, after update on the local tree-sitter-usfm grammar\n",
    "# in terminal from the project root run the following\n",
    "# >>> python python-usfm-parser/src/grammar_rebuild.py ./tree-sitter-usfm3/ python-usfm-parser/src/usfm_grammar/my-languages.so"
   ]
  },
  {
   "cell_type": "markdown",
   "id": "78c03466",
   "metadata": {},
   "source": [
    "### Parsing an input USFM"
   ]
  },
  {
   "cell_type": "code",
   "execution_count": null,
   "id": "5d06e40a",
   "metadata": {},
   "outputs": [],
   "source": [
    "from usfm_grammar import USFMParser, Filter # importing from the local module, not from an installed library"
   ]
  },
  {
   "cell_type": "code",
   "execution_count": null,
   "id": "932320b5",
   "metadata": {},
   "outputs": [],
   "source": [
    "input_usfm_str = '''\n",
    "\\\\id EXO 02EXOGNT92.SFM, Good News Translation, June 2003\n",
    "\\\\h പുറപ്പാടു്\n",
    "\\\\toc1 പുറപ്പാടു്\n",
    "\\\\toc2 പുറപ്പാടു്\n",
    "\\\\mt പുറപ്പാടു്\n",
    "\\\\c 1\n",
    "\\\\p\n",
    "\\\\v 1 യാക്കോബിനോടുകൂടെ കുടുംബസഹിതം ഈജിപ്റ്റിൽ വന്ന \n",
    "\\\\p യിസ്രായേൽമക്കളുടെ പേരുകൾ : \n",
    "\\\\v 2 രൂബേൻ, ശിമെയോൻ, ലേവി,\n",
    "\\\\v 3 \n",
    "\\\\li1 യെഹൂദാ, \n",
    "\\\\li1 യിസ്സാഖാർ, \n",
    "\\\\li1 സെബൂലൂൻ, \n",
    "\\\\li1 ബെന്യാമീൻ\n",
    "\\\\p\n",
    "\\\\v 4 ദാൻ, നഫ്താലി, ഗാദ്, ആശേർ.\n",
    "\\\\v 12-83 They presented their offerings in the following order:\n",
    "\\\\tr \\\\th1 Day \\\\th2 Tribe \\\\th3 Leader\n",
    "\\\\tr \\\\tcr1 1st \\\\tc2 Judah \\\\tc3 Nahshon son of Amminadab\n",
    "\\\\tr \\\\tcr1 2nd \\\\tc2 Issachar \\\\tc3 Nethanel son of Zuar\n",
    "\\\\tr \\\\tcr1 3rd \\\\tc2 Zebulun \\\\tc3 Eliab son of Helon\n",
    "\\\\p\n",
    "\\\\v 5 യാക്കോബിന്റെ സന്താനപരമ്പരകൾ എല്ലാം കൂടി എഴുപതു പേർ ആയിരുന്നു; യോസേഫ് മുമ്പെ തന്നെ ഈജിപ്റ്റിൽ ആയിരുന്നു. \\w gracious|grace\\w* and then a few words later \\w gracious|lemma=\"grace\" x-myattr=\"metadata\"\\w*\n",
    "\\\\c 2\n",
    "\\\\s1 A Prayer of Habakkuk\n",
    "\\\\p\n",
    "\\\\v 1 This is a prayer of the prophet Habakkuk:\n",
    "\\\\b\n",
    "\\\\q1\n",
    "\\\\v 2 O \\\\nd Lord\\\\nd*, I have heard of what you have done,\n",
    "\\\\q2 and I am filled with awe.\n",
    "\\\\q1 Now do again in our times\n",
    "\\\\q2 the great deeds you used to do.\n",
    "\\\\q1 Be merciful, even when you are angry.\n",
    "\\\\p\n",
    "\\\\v 20 Adam \\\\f + \\\\fr 3.20: \\\\fk Adam: \\\\ft This name in Hebrew means “all human beings.”\\\\f*\n",
    "named his wife Eve, \\\\f + \\\\fr 3.20: \\\\fk Eve: \\\\ft This name sounds similar to the Hebrew\n",
    "word for “living,” which is rendered in this context as “human beings.”\\\\f* because she\n",
    "was the mother of all human beings.\n",
    "\\\\v 21 And the \\\\nd Lord\\\\nd* God made clothes out of animal skins for Adam and his wife,\n",
    "and he clothed them.\n",
    "\\\\qt-s |sid=\"qt_123\" who=\"Pilate\"\\\\*“Are you the king of the Jews?”\\\\qt-e |eid=\"qt_123\"\\\\*\n",
    "\\\\esb \\\\cat History\\\\cat*\n",
    "\\\\ms Fish and Fishing\n",
    "\\\\p In Jesus' time, fishing took place mostly on lake Galilee, because Jewish people\n",
    "could not use many of the harbors along the coast of the Mediterranean Sea, since these\n",
    "harbors were often controlled by unfriendly neighbors. The most common fish in the Lake\n",
    "of Galilee were carp and catfish. \\\\wj The Law of Moses \\\\wj* allowed people to eat any fish with\n",
    "fins and scales, but since catfish lack scales (as do eels and sharks) they were not to\n",
    "be eaten. Fish were also probably brought from Tyre and Sidon,\n",
    "where they were dried and salted.\n",
    "...\n",
    "\\\\p Among early Christians, the fish was a favorite image for Jesus, because the Greek\n",
    "word for fish ( \\\\tl ichthus\\\\tl* ) consists of the first letters of the Greek words that\n",
    "tell who Jesus is: \\\\fig Christian Fish Image\\\\fig*\n",
    "\\\\esbe\n",
    "'''"
   ]
  },
  {
   "cell_type": "code",
   "execution_count": null,
   "id": "ad92e648",
   "metadata": {},
   "outputs": [],
   "source": [
    "my_parser = USFMParser(input_usfm_str)"
   ]
  },
  {
   "cell_type": "code",
   "execution_count": null,
   "id": "758fc216",
   "metadata": {},
   "outputs": [],
   "source": [
    "# To validate the input USFM file. \n",
    "# The rest of operations will work even if there are small errors\n",
    "my_parser.errors "
   ]
  },
  {
   "cell_type": "markdown",
   "id": "c2b619c6",
   "metadata": {},
   "source": [
    "#### Converting to other formats and extracting specific contents via filters"
   ]
  },
  {
   "cell_type": "code",
   "execution_count": null,
   "id": "9aa16315",
   "metadata": {},
   "outputs": [],
   "source": [
    "my_parser.to_usj()"
   ]
  },
  {
   "cell_type": "code",
   "execution_count": null,
   "id": "c5b4d79f",
   "metadata": {},
   "outputs": [],
   "source": [
    "# my_parser.to_dict([Filter.SCRIPTURE_TEXT])"
   ]
  },
  {
   "cell_type": "code",
   "execution_count": null,
   "id": "ba0b92d5",
   "metadata": {},
   "outputs": [],
   "source": [
    "# my_parser.to_dict([Filter.NOTES])"
   ]
  },
  {
   "cell_type": "code",
   "execution_count": null,
   "id": "e4f49981",
   "metadata": {},
   "outputs": [],
   "source": [
    "# my_parser.to_dict([Filter.SCRIPTURE_TEXT, Filter.PARAGRAPHS, Filter.TITLES])"
   ]
  },
  {
   "cell_type": "code",
   "execution_count": null,
   "id": "cf59a547",
   "metadata": {},
   "outputs": [],
   "source": [
    "table_output = my_parser.to_list()\n",
    "table_output\n"
   ]
  },
  {
   "cell_type": "code",
   "execution_count": null,
   "id": "f56bc71d",
   "metadata": {},
   "outputs": [],
   "source": [
    "print(\"\\n\".join([\"\\t\".join(row) for row in table_output]))"
   ]
  },
  {
   "cell_type": "code",
   "execution_count": null,
   "id": "6db3993e",
   "metadata": {},
   "outputs": [],
   "source": []
  },
  {
   "cell_type": "code",
   "execution_count": null,
   "id": "e6fa8566",
   "metadata": {},
   "outputs": [],
   "source": [
    "# table_output = my_parser.to_list([Filter.MILESTONES, Filter.NOTES])\n",
    "# print(\"\\n\".join([\"\\t\".join(row) for row in table_output]))\n"
   ]
  },
  {
   "cell_type": "code",
   "execution_count": null,
   "id": "d7b6c4d0",
   "metadata": {},
   "outputs": [],
   "source": []
  },
  {
   "cell_type": "code",
   "execution_count": null,
   "id": "43049bb6",
   "metadata": {},
   "outputs": [],
   "source": [
    "# table_output = my_parser.to_list([Filter.SCRIPTURE_TEXT])\n",
    "# print(\"\\n\".join([\"\\t\".join(row) for row in table_output]))\n"
   ]
  },
  {
   "cell_type": "code",
   "execution_count": null,
   "id": "3f14c2b0",
   "metadata": {},
   "outputs": [],
   "source": []
  },
  {
   "cell_type": "code",
   "execution_count": null,
   "id": "fe450f35",
   "metadata": {},
   "outputs": [],
   "source": []
  },
  {
   "cell_type": "code",
   "execution_count": null,
   "id": "38a6d3fb",
   "metadata": {},
   "outputs": [],
   "source": [
    "from lxml import etree\n",
    "usx_elem = my_parser.to_usx()\n",
    "usx_str = etree.tostring(usx_elem, encoding=\"unicode\", pretty_print=True) \n",
    "print(usx_str)"
   ]
  },
  {
   "cell_type": "code",
   "execution_count": null,
   "id": "6359c463",
   "metadata": {},
   "outputs": [],
   "source": []
  },
  {
   "cell_type": "markdown",
   "id": "2a9162ca",
   "metadata": {},
   "source": [
    "#### To work with the syntax tree itself"
   ]
  },
  {
   "cell_type": "code",
   "execution_count": null,
   "id": "818e36d9",
   "metadata": {},
   "outputs": [],
   "source": [
    "my_st = my_parser.syntax_tree\n",
    "print(my_st.children)"
   ]
  },
  {
   "cell_type": "code",
   "execution_count": null,
   "id": "295dae47",
   "metadata": {},
   "outputs": [],
   "source": []
  },
  {
   "cell_type": "code",
   "execution_count": null,
   "id": "acc803bc",
   "metadata": {},
   "outputs": [],
   "source": []
  },
  {
   "cell_type": "code",
   "execution_count": null,
   "id": "5a8cef41",
   "metadata": {},
   "outputs": [],
   "source": [
    "# to just view the syntax-tree\n",
    "print(my_parser.to_syntax_tree())"
   ]
  },
  {
   "cell_type": "code",
   "execution_count": null,
   "id": "2bd40ba2",
   "metadata": {},
   "outputs": [],
   "source": []
  },
  {
   "cell_type": "code",
   "execution_count": null,
   "id": "a680a0b6",
   "metadata": {},
   "outputs": [],
   "source": []
  },
  {
   "cell_type": "code",
   "execution_count": null,
   "id": "0fac8a56",
   "metadata": {},
   "outputs": [],
   "source": []
  },
  {
   "cell_type": "code",
   "execution_count": null,
   "id": "d4e0c784",
   "metadata": {},
   "outputs": [],
   "source": []
  },
  {
   "cell_type": "code",
   "execution_count": null,
   "id": "1ea6bb28",
   "metadata": {},
   "outputs": [],
   "source": []
  },
  {
   "cell_type": "code",
   "execution_count": null,
   "id": "dc42b6af",
   "metadata": {},
   "outputs": [],
   "source": []
  }
 ],
 "metadata": {
  "kernelspec": {
   "display_name": "ENV-for-usfmgrammar",
   "language": "python",
   "name": "env-for-usfmgrammar"
  },
  "language_info": {
   "codemirror_mode": {
    "name": "ipython",
    "version": 3
   },
   "file_extension": ".py",
   "mimetype": "text/x-python",
   "name": "python",
   "nbconvert_exporter": "python",
   "pygments_lexer": "ipython3",
   "version": "3.10.6"
  }
 },
 "nbformat": 4,
 "nbformat_minor": 5
}
