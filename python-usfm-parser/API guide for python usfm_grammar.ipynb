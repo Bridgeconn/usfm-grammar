{
 "cells": [
  {
   "cell_type": "code",
   "execution_count": null,
   "id": "e31f3e43",
   "metadata": {},
   "outputs": [],
   "source": [
    "import sys\n",
    "sys.path.append('/home/kavitha/Documents/PEG JS and USFM/usfm-grammar-v3/usfm-grammar/python-usfm-parser/ENV3.10/lib/python3.10/site-packages')\n"
   ]
  },
  {
   "cell_type": "code",
   "execution_count": null,
   "id": "8367ed3b",
   "metadata": {},
   "outputs": [],
   "source": [
    "!python usfm_grammar.py -h"
   ]
  },
  {
   "cell_type": "code",
   "execution_count": null,
   "id": "b3d034a2",
   "metadata": {},
   "outputs": [],
   "source": [
    "!python grammar_rebuild.py"
   ]
  },
  {
   "cell_type": "code",
   "execution_count": null,
   "id": "1946e862",
   "metadata": {},
   "outputs": [],
   "source": []
  },
  {
   "cell_type": "code",
   "execution_count": null,
   "id": "5d06e40a",
   "metadata": {},
   "outputs": [],
   "source": [
    "from usfm_grammar import USFMParser, Filter"
   ]
  },
  {
   "cell_type": "code",
   "execution_count": null,
   "id": "932320b5",
   "metadata": {},
   "outputs": [],
   "source": [
    "input_usfm_str = open(\"sample.usfm\",\"r\", encoding='utf8').read()\n",
    "\n",
    "\n",
    "print(input_usfm_str)"
   ]
  },
  {
   "cell_type": "code",
   "execution_count": null,
   "id": "ad92e648",
   "metadata": {},
   "outputs": [],
   "source": [
    "my_parser = USFMParser(input_usfm_str)"
   ]
  },
  {
   "cell_type": "code",
   "execution_count": null,
   "id": "758fc216",
   "metadata": {},
   "outputs": [],
   "source": [
    "my_parser.errors"
   ]
  },
  {
   "cell_type": "code",
   "execution_count": null,
   "id": "9aa16315",
   "metadata": {},
   "outputs": [],
   "source": [
    "my_parser.to_dict()"
   ]
  },
  {
   "cell_type": "code",
   "execution_count": null,
   "id": "c5b4d79f",
   "metadata": {},
   "outputs": [],
   "source": [
    "my_parser.to_dict(Filter.ALL.value)"
   ]
  },
  {
   "cell_type": "code",
   "execution_count": null,
   "id": "ba0b92d5",
   "metadata": {},
   "outputs": [],
   "source": [
    "my_parser.to_dict(Filter.NOTES.value)"
   ]
  },
  {
   "cell_type": "code",
   "execution_count": null,
   "id": "e4f49981",
   "metadata": {},
   "outputs": [],
   "source": [
    "my_parser.to_dict(Filter.NOTES_TEXT.value)"
   ]
  },
  {
   "cell_type": "code",
   "execution_count": null,
   "id": "cf59a547",
   "metadata": {},
   "outputs": [],
   "source": [
    "table_output = my_parser.to_list()\n",
    "table_output\n"
   ]
  },
  {
   "cell_type": "code",
   "execution_count": null,
   "id": "f56bc71d",
   "metadata": {},
   "outputs": [],
   "source": [
    "print(\"\\n\".join([\"\\t\".join(row) for row in table_output]))"
   ]
  },
  {
   "cell_type": "code",
   "execution_count": null,
   "id": "6db3993e",
   "metadata": {},
   "outputs": [],
   "source": []
  },
  {
   "cell_type": "code",
   "execution_count": null,
   "id": "e6fa8566",
   "metadata": {},
   "outputs": [],
   "source": [
    "table_output = my_parser.to_list(Filter.NOTES.value)\n",
    "print(\"\\n\".join([\"\\t\".join(row) for row in table_output]))\n"
   ]
  },
  {
   "cell_type": "code",
   "execution_count": null,
   "id": "d7b6c4d0",
   "metadata": {},
   "outputs": [],
   "source": []
  },
  {
   "cell_type": "code",
   "execution_count": null,
   "id": "43049bb6",
   "metadata": {},
   "outputs": [],
   "source": [
    "my_parser.to_dict(Filter.SCRIPTURE_PARAGRAPHS.value)"
   ]
  },
  {
   "cell_type": "code",
   "execution_count": null,
   "id": "3f14c2b0",
   "metadata": {},
   "outputs": [],
   "source": [
    "table_output = my_parser.to_list(Filter.SCRIPTURE_PARAGRAPHS.value)\n",
    "print(\"\\n\".join([\"\\t\".join(row) for row in table_output]))\n"
   ]
  },
  {
   "cell_type": "code",
   "execution_count": null,
   "id": "fe450f35",
   "metadata": {},
   "outputs": [],
   "source": []
  },
  {
   "cell_type": "code",
   "execution_count": null,
   "id": "38a6d3fb",
   "metadata": {},
   "outputs": [],
   "source": [
    "import xml.etree.ElementTree as ET\n",
    "\n",
    "usx_elem = my_parser.to_usx()\n",
    "usx_str = ET.tostring(usx_elem, encoding=\"unicode\")"
   ]
  },
  {
   "cell_type": "code",
   "execution_count": null,
   "id": "6359c463",
   "metadata": {},
   "outputs": [],
   "source": [
    "usx_str"
   ]
  },
  {
   "cell_type": "code",
   "execution_count": null,
   "id": "295dae47",
   "metadata": {},
   "outputs": [],
   "source": []
  },
  {
   "cell_type": "code",
   "execution_count": null,
   "id": "583efddc",
   "metadata": {},
   "outputs": [],
   "source": []
  },
  {
   "cell_type": "code",
   "execution_count": null,
   "id": "2bd40ba2",
   "metadata": {},
   "outputs": [],
   "source": [
    "import sys\n",
    "sys.path.append('/home/kavitha/Documents/PEG JS and USFM/usfm-grammar-v3/usfm-grammar/python-usfm-parser/ENV3.10/lib/python3.10/site-packages')\n",
    "\n",
    "\n",
    "from usfm_grammar import USFMParser, Filter\n",
    "import xml.etree.ElementTree as ET\n",
    "\n",
    "input_usfm_str = open(\"origin.usfm\",\"r\", encoding='utf8').read()\n",
    "my_parser = USFMParser(input_usfm_str)\n",
    "\n",
    "usx_elem = my_parser.to_usx()\n",
    "usx_str = ET.tostring(usx_elem, encoding=\"unicode\")\n",
    "\n",
    "usx_str"
   ]
  },
  {
   "cell_type": "code",
   "execution_count": null,
   "id": "a680a0b6",
   "metadata": {},
   "outputs": [],
   "source": [
    "from lxml import etree\n",
    "with open(\"../schemas/usx.rnc\") as f:\n",
    "    usxrnc_doc  = f.read()\n",
    "    relaxng = etree.RelaxNG.from_rnc_string(usxrnc_doc)"
   ]
  },
  {
   "cell_type": "code",
   "execution_count": null,
   "id": "0fac8a56",
   "metadata": {},
   "outputs": [],
   "source": [
    "\n",
    "\n",
    "from io import StringIO \n",
    "usx_f = StringIO(usx_str)\n",
    "doc = etree.parse(usx_f)\n",
    "if relaxng.validate(doc):\n",
    "    print(\"valid\")\n",
    "else:\n",
    "    relaxng.assertValid(doc)"
   ]
  },
  {
   "cell_type": "code",
   "execution_count": null,
   "id": "d4e0c784",
   "metadata": {},
   "outputs": [],
   "source": []
  },
  {
   "cell_type": "code",
   "execution_count": null,
   "id": "1ea6bb28",
   "metadata": {},
   "outputs": [],
   "source": []
  },
  {
   "cell_type": "code",
   "execution_count": null,
   "id": "dc42b6af",
   "metadata": {},
   "outputs": [],
   "source": []
  },
  {
   "cell_type": "code",
   "execution_count": null,
   "id": "8d12593b",
   "metadata": {},
   "outputs": [],
   "source": []
  },
  {
   "cell_type": "code",
   "execution_count": null,
   "id": "818e36d9",
   "metadata": {},
   "outputs": [],
   "source": [
    "my_parser.to_syntax_tree()"
   ]
  },
  {
   "cell_type": "code",
   "execution_count": null,
   "id": "5a8cef41",
   "metadata": {},
   "outputs": [],
   "source": []
  }
 ],
 "metadata": {
  "kernelspec": {
   "display_name": "tree-sitter-env",
   "language": "python",
   "name": "tree-sitter-env"
  },
  "language_info": {
   "codemirror_mode": {
    "name": "ipython",
    "version": 3
   },
   "file_extension": ".py",
   "mimetype": "text/x-python",
   "name": "python",
   "nbconvert_exporter": "python",
   "pygments_lexer": "ipython3",
   "version": "3.10.6"
  }
 },
 "nbformat": 4,
 "nbformat_minor": 5
}
