{
 "cells": [
  {
   "cell_type": "code",
   "execution_count": null,
   "id": "e31f3e43",
   "metadata": {},
   "outputs": [],
   "source": [
    "import sys\n",
    "sys.path.append('/home/kavitha/Documents/PEG JS and USFM/usfm-grammar-v3/usfm-grammar/python-usfm-parser/ENV/lib/python3.8/site-packages')\n"
   ]
  },
  {
   "cell_type": "code",
   "execution_count": null,
   "id": "8367ed3b",
   "metadata": {},
   "outputs": [],
   "source": [
    "!python usfm_grammar.py -h"
   ]
  },
  {
   "cell_type": "code",
   "execution_count": 2,
   "id": "b3d034a2",
   "metadata": {},
   "outputs": [],
   "source": [
    "!python grammar_rebuild.py"
   ]
  },
  {
   "cell_type": "code",
   "execution_count": null,
   "id": "1946e862",
   "metadata": {},
   "outputs": [],
   "source": []
  },
  {
   "cell_type": "code",
   "execution_count": null,
   "id": "5d06e40a",
   "metadata": {},
   "outputs": [],
   "source": [
    "from usfm_grammar import USFMParser, Filter"
   ]
  },
  {
   "cell_type": "code",
   "execution_count": null,
   "id": "932320b5",
   "metadata": {},
   "outputs": [],
   "source": [
    "input_usfm_str = open(\"sample.usfm\",\"r\", encoding='utf8').read()\n",
    "\n",
    "\n",
    "print(input_usfm_str)"
   ]
  },
  {
   "cell_type": "code",
   "execution_count": null,
   "id": "ad92e648",
   "metadata": {},
   "outputs": [],
   "source": [
    "my_parser = USFMParser(input_usfm_str)"
   ]
  },
  {
   "cell_type": "code",
   "execution_count": null,
   "id": "758fc216",
   "metadata": {},
   "outputs": [],
   "source": [
    "my_parser.errors"
   ]
  },
  {
   "cell_type": "code",
   "execution_count": null,
   "id": "9aa16315",
   "metadata": {},
   "outputs": [],
   "source": [
    "my_parser.toDict()"
   ]
  },
  {
   "cell_type": "code",
   "execution_count": null,
   "id": "c5b4d79f",
   "metadata": {},
   "outputs": [],
   "source": [
    "my_parser.toDict(Filter.ALL.value)"
   ]
  },
  {
   "cell_type": "code",
   "execution_count": null,
   "id": "ba0b92d5",
   "metadata": {},
   "outputs": [],
   "source": [
    "my_parser.toDict(Filter.NOTES.value)"
   ]
  },
  {
   "cell_type": "code",
   "execution_count": null,
   "id": "e4f49981",
   "metadata": {},
   "outputs": [],
   "source": []
  },
  {
   "cell_type": "code",
   "execution_count": null,
   "id": "cf59a547",
   "metadata": {},
   "outputs": [],
   "source": [
    "table_output = my_parser.toTable()\n",
    "table_output\n"
   ]
  },
  {
   "cell_type": "code",
   "execution_count": null,
   "id": "f56bc71d",
   "metadata": {},
   "outputs": [],
   "source": [
    "print(\"\\n\".join([\"\\t\".join(row) for row in table_output]))"
   ]
  },
  {
   "cell_type": "code",
   "execution_count": null,
   "id": "6db3993e",
   "metadata": {},
   "outputs": [],
   "source": []
  },
  {
   "cell_type": "code",
   "execution_count": null,
   "id": "e6fa8566",
   "metadata": {},
   "outputs": [],
   "source": [
    "table_output = my_parser.toTable(Filter.NOTES.value)\n",
    "print(\"\\n\".join([\"\\t\".join(row) for row in table_output]))\n"
   ]
  },
  {
   "cell_type": "code",
   "execution_count": null,
   "id": "d7b6c4d0",
   "metadata": {},
   "outputs": [],
   "source": []
  },
  {
   "cell_type": "code",
   "execution_count": null,
   "id": "43049bb6",
   "metadata": {},
   "outputs": [],
   "source": [
    "my_parser.toDict(Filter.SCRIPTURE_PARAGRAPHS.value)"
   ]
  },
  {
   "cell_type": "code",
   "execution_count": null,
   "id": "3f14c2b0",
   "metadata": {},
   "outputs": [],
   "source": [
    "table_output = my_parser.toTable(Filter.SCRIPTURE_PARAGRAPHS.value)\n",
    "print(\"\\n\".join([\"\\t\".join(row) for row in table_output]))\n"
   ]
  },
  {
   "cell_type": "code",
   "execution_count": null,
   "id": "fe450f35",
   "metadata": {},
   "outputs": [],
   "source": []
  },
  {
   "cell_type": "code",
   "execution_count": null,
   "id": "38a6d3fb",
   "metadata": {},
   "outputs": [],
   "source": [
    "import xml.etree.ElementTree as ET\n",
    "\n",
    "usx_elem = my_parser.toUSX()\n",
    "usx_str = ET.tostring(usx_elem, encoding=\"unicode\")"
   ]
  },
  {
   "cell_type": "code",
   "execution_count": null,
   "id": "6359c463",
   "metadata": {},
   "outputs": [],
   "source": [
    "usx_str"
   ]
  },
  {
   "cell_type": "code",
   "execution_count": null,
   "id": "295dae47",
   "metadata": {},
   "outputs": [],
   "source": [
    "!pip install lxml"
   ]
  },
  {
   "cell_type": "code",
   "execution_count": null,
   "id": "583efddc",
   "metadata": {},
   "outputs": [],
   "source": [
    "!pip install rnc2rng"
   ]
  },
  {
   "cell_type": "code",
   "execution_count": 4,
   "id": "2bd40ba2",
   "metadata": {},
   "outputs": [
    {
     "data": {
      "text/plain": [
       "'<usx version=\"3.0\"><book code=\"GEN\" style=\"id\" /><chapter number=\"1\" style=\"c\" sid=\"GEN 1\" /><para style=\"p\" /><chapter eid=\"GEN 1\" /></usx>'"
      ]
     },
     "execution_count": 4,
     "metadata": {},
     "output_type": "execute_result"
    }
   ],
   "source": [
    "import sys\n",
    "sys.path.append('/home/kavitha/Documents/PEG JS and USFM/usfm-grammar-v3/usfm-grammar/python-usfm-parser/ENV/lib/python3.8/site-packages')\n",
    "\n",
    "\n",
    "from usfm_grammar import USFMParser, Filter\n",
    "import xml.etree.ElementTree as ET\n",
    "\n",
    "input_usfm_str = open(\"origin.usfm\",\"r\", encoding='utf8').read()\n",
    "my_parser = USFMParser(input_usfm_str)\n",
    "\n",
    "usx_elem = my_parser.toUSX()\n",
    "usx_str = ET.tostring(usx_elem, encoding=\"unicode\")\n",
    "\n",
    "usx_str"
   ]
  },
  {
   "cell_type": "code",
   "execution_count": 29,
   "id": "a680a0b6",
   "metadata": {},
   "outputs": [],
   "source": [
    "from lxml import etree\n",
    "with open(\"../schemas/usx.rnc\") as f:\n",
    "    usxrnc_doc  = f.read()\n",
    "    relaxng = etree.RelaxNG.from_rnc_string(usxrnc_doc)"
   ]
  },
  {
   "cell_type": "code",
   "execution_count": 30,
   "id": "0fac8a56",
   "metadata": {},
   "outputs": [
    {
     "name": "stdout",
     "output_type": "stream",
     "text": [
      "valid\n"
     ]
    }
   ],
   "source": [
    "\n",
    "\n",
    "from io import StringIO \n",
    "usx_f = StringIO(usx_str)\n",
    "doc = etree.parse(usx_f)\n",
    "if relaxng.validate(doc):\n",
    "    print(\"valid\")\n",
    "else:\n",
    "    relaxng.assertValid(doc)"
   ]
  },
  {
   "cell_type": "code",
   "execution_count": null,
   "id": "d4e0c784",
   "metadata": {},
   "outputs": [],
   "source": []
  },
  {
   "cell_type": "code",
   "execution_count": 31,
   "id": "1ea6bb28",
   "metadata": {},
   "outputs": [
    {
     "name": "stdout",
     "output_type": "stream",
     "text": [
      "valid\n"
     ]
    }
   ],
   "source": [
    "origin_usx_str = '''<usx version=\"3.0\">\n",
    "  <book code=\"GEN\" style=\"id\" />\n",
    "  <para style=\"mt1\">MARK</para>\n",
    "  <chapter number=\"1\" style=\"c\" sid=\"GEN 1\" />\n",
    "  <para style=\"p\">\n",
    "    <verse number=\"1\" style=\"v\" sid=\"GEN 1:1\" />\n",
    "    verse one \n",
    "    <verse eid=\"GEN 1:1\" />\n",
    "    <verse number=\"2\" style=\"v\" sid=\"GEN 1:2\" />\n",
    "    verse two\n",
    "    <verse eid=\"GEN 1:2\" />\n",
    "  </para>\n",
    "  <chapter eid=\"GEN 1\" />\n",
    "</usx>'''\n",
    "usx_f = StringIO(origin_usx_str)\n",
    "doc = etree.parse(usx_f)\n",
    "if relaxng.validate(doc):\n",
    "    print(\"valid\")\n",
    "else:\n",
    "    relaxng.assertValid(doc)"
   ]
  },
  {
   "cell_type": "code",
   "execution_count": null,
   "id": "dc42b6af",
   "metadata": {},
   "outputs": [],
   "source": []
  },
  {
   "cell_type": "code",
   "execution_count": 32,
   "id": "8d12593b",
   "metadata": {},
   "outputs": [
    {
     "name": "stdout",
     "output_type": "stream",
     "text": [
      "valid\n"
     ]
    }
   ],
   "source": [
    "empty_usx_str = '''<usx version=\"3.0.0\">\n",
    "  <book code=\"GEN\" style=\"id\" />\n",
    "  <chapter number=\"1\" style=\"c\" sid=\"GEN 1\" />\n",
    "  <para style=\"p\">\n",
    "    <verse number=\"1\" style=\"v\" altnumber=\"2\" pubnumber=\"B\" sid=\"GEN 1:22\" />\n",
    "    verse one\n",
    "  </para>\n",
    "  <chapter eid=\"GEN 1\" />\n",
    "\n",
    "</usx>'''\n",
    "usx_f = StringIO(empty_usx_str)\n",
    "doc = etree.parse(usx_f)\n",
    "if relaxng.validate(doc):\n",
    "    print(\"valid\")\n",
    "else:\n",
    "    relaxng.assertValid(doc)"
   ]
  },
  {
   "cell_type": "code",
   "execution_count": 8,
   "id": "818e36d9",
   "metadata": {},
   "outputs": [
    {
     "data": {
      "text/plain": [
       "'(File (book (id (bookcode) (description))) (mtBlock (mt (numberedLevelMax4) (text))) (chapter (c (chapterNumber)) (paragraph (p))))'"
      ]
     },
     "execution_count": 8,
     "metadata": {},
     "output_type": "execute_result"
    }
   ],
   "source": [
    "my_parser.toAST()"
   ]
  },
  {
   "cell_type": "code",
   "execution_count": null,
   "id": "5a8cef41",
   "metadata": {},
   "outputs": [],
   "source": []
  }
 ],
 "metadata": {
  "kernelspec": {
   "display_name": "tree-sitter-env",
   "language": "python",
   "name": "tree-sitter-env"
  },
  "language_info": {
   "codemirror_mode": {
    "name": "ipython",
    "version": 3
   },
   "file_extension": ".py",
   "mimetype": "text/x-python",
   "name": "python",
   "nbconvert_exporter": "python",
   "pygments_lexer": "ipython3",
   "version": "3.8.10"
  }
 },
 "nbformat": 4,
 "nbformat_minor": 5
}
