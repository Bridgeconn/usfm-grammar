{
 "cells": [
  {
   "cell_type": "code",
   "execution_count": 1,
   "id": "e31f3e43",
   "metadata": {},
   "outputs": [],
   "source": [
    "import sys\n",
    "sys.path.append('/home/kavitha/Documents/PEG JS and USFM/usfm-grammar-v3/usfm-grammar/python-usfm-parser/ENV/lib/python3.8/site-packages')\n"
   ]
  },
  {
   "cell_type": "code",
   "execution_count": 2,
   "id": "8367ed3b",
   "metadata": {},
   "outputs": [
    {
     "name": "stdout",
     "output_type": "stream",
     "text": [
      "usage: usfm_grammar.py [-h] [--format {json,table,usx,markdown,syntax-tree}]\r\n",
      "                       [--filter {scripture-bcv,notes,scripture-paragraph}]\r\n",
      "                       [--csv_col_sep CSV_COL_SEP] [--csv_row_sep CSV_ROW_SEP]\r\n",
      "                       infile\r\n",
      "\r\n",
      "Uses the tree-sitter-usfm grammar to parse and convert USFM to Syntax-tree,\r\n",
      "JSON, CSV or MarkDown.\r\n",
      "\r\n",
      "positional arguments:\r\n",
      "  infile                input usfm file\r\n",
      "\r\n",
      "optional arguments:\r\n",
      "  -h, --help            show this help message and exit\r\n",
      "  --format {json,table,usx,markdown,syntax-tree}\r\n",
      "                        output format\r\n",
      "  --filter {scripture-bcv,notes,scripture-paragraph}\r\n",
      "                        the type of contents to be included\r\n",
      "  --csv_col_sep CSV_COL_SEP\r\n",
      "                        column separator or delimiter. Only useful with\r\n",
      "                        format=table.\r\n",
      "  --csv_row_sep CSV_ROW_SEP\r\n",
      "                        row separator or delimiter. Only useful with\r\n",
      "                        format=table.\r\n"
     ]
    }
   ],
   "source": [
    "!python usfm_grammar.py -h"
   ]
  },
  {
   "cell_type": "code",
   "execution_count": 3,
   "id": "b3d034a2",
   "metadata": {},
   "outputs": [],
   "source": [
    "!python grammar_rebuild.py"
   ]
  },
  {
   "cell_type": "code",
   "execution_count": null,
   "id": "1946e862",
   "metadata": {},
   "outputs": [],
   "source": []
  },
  {
   "cell_type": "code",
   "execution_count": 4,
   "id": "5d06e40a",
   "metadata": {},
   "outputs": [],
   "source": [
    "from usfm_grammar import USFMParser, Filter"
   ]
  },
  {
   "cell_type": "code",
   "execution_count": 5,
   "id": "932320b5",
   "metadata": {},
   "outputs": [
    {
     "name": "stdout",
     "output_type": "stream",
     "text": [
      "\\id EXO 02EXOGNT92.SFM, Good News Translation, June 2003\n",
      "\\h പുറപ്പാടു്\n",
      "\\toc1 പുറപ്പാടു്\n",
      "\\toc2 പുറപ്പാടു്\n",
      "\\mt പുറപ്പാടു്\n",
      "\\c 1\n",
      "\\p\n",
      "\\v 1 യാക്കോബിനോടുകൂടെ കുടുംബസഹിതം ഈജിപ്റ്റിൽ വന്ന \n",
      "\\p യിസ്രായേൽമക്കളുടെ പേരുകൾ : \n",
      "\\v 2 രൂബേൻ, ശിമെയോൻ, ലേവി,\n",
      "\\v 3 \n",
      "\\li1 യെഹൂദാ, \n",
      "\\li1 യിസ്സാഖാർ, \n",
      "\\li1 സെബൂലൂൻ, \n",
      "\\li1 ബെന്യാമീൻ\n",
      "\\v 4 ദാൻ, നഫ്താലി, ഗാദ്, ആശേർ.\n",
      "\\v 5 യാക്കോബിന്റെ സന്താനപരമ്പരകൾ എല്ലാം കൂടി എഴുപതു പേർ ആയിരുന്നു; യോസേഫ് മുമ്പെ തന്നെ ഈജിപ്റ്റിൽ ആയിരുന്നു. \\w gracious|grace\\w* and then a few words later \\w gracious|lemma=\"grace\" x-myattr=\"metadata\"\\w*\n",
      "\\c 2\n",
      "\\s1 A Prayer of Habakkuk\n",
      "\\p\n",
      "\\v 1 This is a prayer of the prophet Habakkuk:\n",
      "\\b\n",
      "\\q1\n",
      "\\v 2 O \\nd Lord\\nd*, I have heard of what you have done,\n",
      "\\q2 and I am filled with awe.\n",
      "\\q1 Now do again in our times\n",
      "\\q2 the great deeds you used to do.\n",
      "\\q1 Be merciful, even when you are angry.\n",
      "\\p\n",
      "\\v 20 Adam \\f + \\fr 3.20: \\fk Adam: \\ft This name in Hebrew means “all human beings.”\\f*\n",
      "named his wife Eve, \\f + \\fr 3.20: \\fk Eve: \\ft This name sounds similar to the Hebrew\n",
      "word for “living,” which is rendered in this context as “human beings.”\\f* because she\n",
      "was the mother of all human beings.\n",
      "\\v 21 And the \\nd Lord\\nd* God made clothes out of animal skins for Adam and his wife,\n",
      "and he clothed them.\n",
      "\n"
     ]
    }
   ],
   "source": [
    "input_usfm_str = open(\"sample.usfm\",\"r\", encoding='utf8').read()\n",
    "\n",
    "\n",
    "print(input_usfm_str)"
   ]
  },
  {
   "cell_type": "code",
   "execution_count": 6,
   "id": "ad92e648",
   "metadata": {},
   "outputs": [],
   "source": [
    "my_parser = USFMParser(input_usfm_str)"
   ]
  },
  {
   "cell_type": "code",
   "execution_count": 7,
   "id": "758fc216",
   "metadata": {},
   "outputs": [],
   "source": [
    "my_parser.errors"
   ]
  },
  {
   "cell_type": "code",
   "execution_count": 8,
   "id": "9aa16315",
   "metadata": {},
   "outputs": [
    {
     "data": {
      "text/plain": [
       "{'book': {'bookcode': 'EXO',\n",
       "  'chapters': [{'chapterNumber': '1',\n",
       "    'contents': [{'verseNumber': '1',\n",
       "      'verseText': 'യാക്കോബിനോടുകൂടെ കുടുംബസഹിതം ഈജിപ്റ്റിൽ വന്ന  യിസ്രായേൽമക്കളുടെ പേരുകൾ :  '},\n",
       "     {'verseNumber': '2', 'verseText': 'രൂബേൻ, ശിമെയോൻ, ലേവി, '},\n",
       "     {'verseNumber': '3',\n",
       "      'verseText': ' യെഹൂദാ,  യിസ്സാഖാർ,  സെബൂലൂൻ,  ബെന്യാമീൻ '},\n",
       "     {'verseNumber': '4', 'verseText': 'ദാൻ, നഫ്താലി, ഗാദ്, ആശേർ. '},\n",
       "     {'verseNumber': '5',\n",
       "      'verseText': 'യാക്കോബിന്റെ സന്താനപരമ്പരകൾ എല്ലാം കൂടി എഴുപതു പേർ ആയിരുന്നു; യോസേഫ് മുമ്പെ തന്നെ ഈജിപ്റ്റിൽ ആയിരുന്നു.  graciousgrace and then a few words later  graciouslemma=\"grace\" x-myattr=\"metadata\" '}]},\n",
       "   {'chapterNumber': '2',\n",
       "    'contents': [{'verseNumber': '1',\n",
       "      'verseText': 'This is a prayer of the prophet Habakkuk: '},\n",
       "     {'verseNumber': '2',\n",
       "      'verseText': 'O  Lord, I have heard of what you have done, and I am filled with awe. Now do again in our times the great deeds you used to do. Be merciful, even when you are angry. '},\n",
       "     {'verseNumber': '20',\n",
       "      'verseText': 'Adam  named his wife Eve,  because she was the mother of all human beings. '},\n",
       "     {'verseNumber': '21',\n",
       "      'verseText': 'And the  Lord God made clothes out of animal skins for Adam and his wife, and he clothed them. '}]}]}}"
      ]
     },
     "execution_count": 8,
     "metadata": {},
     "output_type": "execute_result"
    }
   ],
   "source": [
    "my_parser.toDict()"
   ]
  },
  {
   "cell_type": "code",
   "execution_count": 9,
   "id": "c5b4d79f",
   "metadata": {},
   "outputs": [
    {
     "data": {
      "text/plain": [
       "[{'book': [{'id': ['\\\\id ',\n",
       "     {'bookcode': ['EXO']},\n",
       "     {'description': ' 02EXOGNT92.SFM, Good News Translation, June 2003\\n'}]}]},\n",
       " {'hBlock': [{'h': ['\\\\h', ' ', {'text': 'പുറപ്പാടു്\\n'}]},\n",
       "   {'tocBlock': [{'toc': ['\\\\toc',\n",
       "       {'numberedLevelMax3': '1'},\n",
       "       ' ',\n",
       "       {'text': 'പുറപ്പാടു്\\n'}]},\n",
       "     {'toc': ['\\\\toc',\n",
       "       {'numberedLevelMax3': '2'},\n",
       "       ' ',\n",
       "       {'text': 'പുറപ്പാടു്\\n'}]}]}]},\n",
       " {'mtBlock': [{'mt': ['\\\\mt', ' ', {'text': 'പുറപ്പാടു്\\n'}]}]},\n",
       " {'chapter': [{'c': ['\\\\c ', {'chapterNumber': '1'}]},\n",
       "   {'paragraph': [{'p': ['\\\\p',\n",
       "       {'v': ['\\\\v ', {'verseNumber': '1 '}]},\n",
       "       {'verseText': [{'text': 'യാക്കോബിനോടുകൂടെ കുടുംബസഹിതം ഈജിപ്റ്റിൽ വന്ന \\n'}]}]}]},\n",
       "   {'paragraph': [{'p': ['\\\\p',\n",
       "       {'verseText': [{'text': 'യിസ്രായേൽമക്കളുടെ പേരുകൾ : \\n'}]},\n",
       "       {'v': ['\\\\v ', {'verseNumber': '2 '}]},\n",
       "       {'verseText': [{'text': 'രൂബേൻ, ശിമെയോൻ, ലേവി,\\n'}]},\n",
       "       {'v': ['\\\\v ', {'verseNumber': '3 '}]},\n",
       "       {'verseText': [{'text': '\\n'}]}]}]},\n",
       "   {'list': [{'liBlock': [{'li': ['\\\\li',\n",
       "         {'numberedLevelMax4': '1'},\n",
       "         {'verseText': [{'text': 'യെഹൂദാ, \\n'}]}]},\n",
       "       {'li': ['\\\\li',\n",
       "         {'numberedLevelMax4': '1'},\n",
       "         {'verseText': [{'text': 'യിസ്സാഖാർ, \\n'}]}]},\n",
       "       {'li': ['\\\\li',\n",
       "         {'numberedLevelMax4': '1'},\n",
       "         {'verseText': [{'text': 'സെബൂലൂൻ, \\n'}]}]},\n",
       "       {'li': ['\\\\li',\n",
       "         {'numberedLevelMax4': '1'},\n",
       "         {'verseText': [{'text': 'ബെന്യാമീൻ\\n'}]},\n",
       "         {'v': ['\\\\v ', {'verseNumber': '4 '}]},\n",
       "         {'verseText': [{'text': 'ദാൻ, നഫ്താലി, ഗാദ്, ആശേർ.\\n'}]},\n",
       "         {'v': ['\\\\v ', {'verseNumber': '5 '}]},\n",
       "         {'verseText': [{'text': 'യാക്കോബിന്റെ സന്താനപരമ്പരകൾ എല്ലാം കൂടി എഴുപതു പേർ ആയിരുന്നു; യോസേഫ് മുമ്പെ തന്നെ ഈജിപ്റ്റിൽ ആയിരുന്നു. '},\n",
       "           {'w': ['\\\\w',\n",
       "             {'text': ' gracious'},\n",
       "             {'attributes': ['|', {'text': 'grace'}]},\n",
       "             '\\\\w*']},\n",
       "           {'text': ' and then a few words later '},\n",
       "           {'w': ['\\\\w',\n",
       "             {'text': ' gracious'},\n",
       "             {'attributes': ['|',\n",
       "               {'text': 'lemma=\"grace\" x-myattr=\"metadata\"'}]},\n",
       "             '\\\\w*']},\n",
       "           {'text': '\\n'}]}]}]}]}]},\n",
       " {'chapter': [{'c': ['\\\\c ', {'chapterNumber': '2'}]},\n",
       "   {'title': [{'sBlock': [{'s': ['\\\\s',\n",
       "         {'numberedLevelMax5': '1'},\n",
       "         ' ',\n",
       "         {'text': 'A Prayer of Habakkuk\\n'}]}]}]},\n",
       "   {'paragraph': [{'p': ['\\\\p',\n",
       "       {'v': ['\\\\v ', {'verseNumber': '1 '}]},\n",
       "       {'verseText': [{'text': 'This is a prayer of the prophet Habakkuk:\\n'}]}]}]},\n",
       "   {'paragraph': [{'b': ['\\\\b']}]},\n",
       "   {'poetry': [{'qBlock': [{'q': ['\\\\q',\n",
       "         {'numberedLevelMax3': '1'},\n",
       "         {'v': ['\\\\v ', {'verseNumber': '2 '}]},\n",
       "         {'verseText': [{'text': 'O '},\n",
       "           {'nd': ['\\\\nd', {'text': ' Lord'}, '\\\\nd*']},\n",
       "           {'text': ', I have heard of what you have done,\\n'}]}]},\n",
       "       {'q': ['\\\\q',\n",
       "         {'numberedLevelMax3': '2'},\n",
       "         {'verseText': [{'text': 'and I am filled with awe.\\n'}]}]},\n",
       "       {'q': ['\\\\q',\n",
       "         {'numberedLevelMax3': '1'},\n",
       "         {'verseText': [{'text': 'Now do again in our times\\n'}]}]},\n",
       "       {'q': ['\\\\q',\n",
       "         {'numberedLevelMax3': '2'},\n",
       "         {'verseText': [{'text': 'the great deeds you used to do.\\n'}]}]},\n",
       "       {'q': ['\\\\q',\n",
       "         {'numberedLevelMax3': '1'},\n",
       "         {'verseText': [{'text': 'Be merciful, even when you are angry.\\n'}]}]}]}]},\n",
       "   {'paragraph': [{'p': ['\\\\p',\n",
       "       {'v': ['\\\\v ', {'verseNumber': '20 '}]},\n",
       "       {'verseText': [{'text': 'Adam '}]},\n",
       "       {'footnote': [{'f': ['\\\\f ',\n",
       "           {'caller': '+'},\n",
       "           {'noteText': [{'text': ' '}]},\n",
       "           {'fr': ['\\\\fr ', {'noteText': [{'text': '3.20: '}]}]},\n",
       "           {'fk': ['\\\\fk ', {'noteText': [{'text': 'Adam: '}]}]},\n",
       "           {'ft': ['\\\\ft ',\n",
       "             {'noteText': [{'text': 'This name in Hebrew means “all human beings.”'}]}]},\n",
       "           '\\\\f*']}]},\n",
       "       {'verseText': [{'text': '\\nnamed his wife Eve, '}]},\n",
       "       {'footnote': [{'f': ['\\\\f ',\n",
       "           {'caller': '+'},\n",
       "           {'noteText': [{'text': ' '}]},\n",
       "           {'fr': ['\\\\fr ', {'noteText': [{'text': '3.20: '}]}]},\n",
       "           {'fk': ['\\\\fk ', {'noteText': [{'text': 'Eve: '}]}]},\n",
       "           {'ft': ['\\\\ft ',\n",
       "             {'noteText': [{'text': 'This name sounds similar to the Hebrew\\nword for “living,” which is rendered in this context as “human beings.”'}]}]},\n",
       "           '\\\\f*']}]},\n",
       "       {'verseText': [{'text': ' because she\\nwas the mother of all human beings.\\n'}]},\n",
       "       {'v': ['\\\\v ', {'verseNumber': '21 '}]},\n",
       "       {'verseText': [{'text': 'And the '},\n",
       "         {'nd': ['\\\\nd', {'text': ' Lord'}, '\\\\nd*']},\n",
       "         {'text': ' God made clothes out of animal skins for Adam and his wife,\\nand he clothed them.\\n'}]}]}]}]}]"
      ]
     },
     "execution_count": 9,
     "metadata": {},
     "output_type": "execute_result"
    }
   ],
   "source": [
    "my_parser.toDict(Filter.ALL.value)"
   ]
  },
  {
   "cell_type": "code",
   "execution_count": 10,
   "id": "ba0b92d5",
   "metadata": {},
   "outputs": [
    {
     "data": {
      "text/plain": [
       "{'book': {'bookcode': 'EXO',\n",
       "  'chapters': [{'chapterNumber': '1', 'contents': []},\n",
       "   {'chapterNumber': '2',\n",
       "    'contents': [{'verseNumber': '20',\n",
       "      'notes': [{'footnote': [{'f': ['\\\\f ',\n",
       "           {'caller': '+'},\n",
       "           {'noteText': [{'text': ' '}]},\n",
       "           {'fr': ['\\\\fr ', {'noteText': [{'text': '3.20: '}]}]},\n",
       "           {'fk': ['\\\\fk ', {'noteText': [{'text': 'Adam: '}]}]},\n",
       "           {'ft': ['\\\\ft ',\n",
       "             {'noteText': [{'text': 'This name in Hebrew means “all human beings.”'}]}]},\n",
       "           '\\\\f*']}]},\n",
       "       {'footnote': [{'f': ['\\\\f ',\n",
       "           {'caller': '+'},\n",
       "           {'noteText': [{'text': ' '}]},\n",
       "           {'fr': ['\\\\fr ', {'noteText': [{'text': '3.20: '}]}]},\n",
       "           {'fk': ['\\\\fk ', {'noteText': [{'text': 'Eve: '}]}]},\n",
       "           {'ft': ['\\\\ft ',\n",
       "             {'noteText': [{'text': 'This name sounds similar to the Hebrew\\nword for “living,” which is rendered in this context as “human beings.”'}]}]},\n",
       "           '\\\\f*']}]}]}]}]}}"
      ]
     },
     "execution_count": 10,
     "metadata": {},
     "output_type": "execute_result"
    }
   ],
   "source": [
    "my_parser.toDict(Filter.NOTES.value)"
   ]
  },
  {
   "cell_type": "code",
   "execution_count": null,
   "id": "e4f49981",
   "metadata": {},
   "outputs": [],
   "source": []
  },
  {
   "cell_type": "code",
   "execution_count": 11,
   "id": "cf59a547",
   "metadata": {},
   "outputs": [
    {
     "data": {
      "text/plain": [
       "[['Book', 'Chapter', 'Verse', 'Text'],\n",
       " ['EXO',\n",
       "  '1',\n",
       "  '1',\n",
       "  '\"യാക്കോബിനോടുകൂടെ കുടുംബസഹിതം ഈജിപ്റ്റിൽ വന്ന  യിസ്രായേൽമക്കളുടെ പേരുകൾ :  \"'],\n",
       " ['EXO', '1', '2', '\"രൂബേൻ, ശിമെയോൻ, ലേവി, \"'],\n",
       " ['EXO', '1', '3', '\" യെഹൂദാ,  യിസ്സാഖാർ,  സെബൂലൂൻ,  ബെന്യാമീൻ \"'],\n",
       " ['EXO', '1', '4', '\"ദാൻ, നഫ്താലി, ഗാദ്, ആശേർ. \"'],\n",
       " ['EXO',\n",
       "  '1',\n",
       "  '5',\n",
       "  '\"യാക്കോബിന്റെ സന്താനപരമ്പരകൾ എല്ലാം കൂടി എഴുപതു പേർ ആയിരുന്നു; യോസേഫ് മുമ്പെ തന്നെ ഈജിപ്റ്റിൽ ആയിരുന്നു.  graciousgrace and then a few words later  graciouslemma=\"grace\" x-myattr=\"metadata\" \"'],\n",
       " ['EXO', '2', '1', '\"This is a prayer of the prophet Habakkuk: \"'],\n",
       " ['EXO',\n",
       "  '2',\n",
       "  '2',\n",
       "  '\"O  Lord, I have heard of what you have done, and I am filled with awe. Now do again in our times the great deeds you used to do. Be merciful, even when you are angry. \"'],\n",
       " ['EXO',\n",
       "  '2',\n",
       "  '20',\n",
       "  '\"Adam  named his wife Eve,  because she was the mother of all human beings. \"'],\n",
       " ['EXO',\n",
       "  '2',\n",
       "  '21',\n",
       "  '\"And the  Lord God made clothes out of animal skins for Adam and his wife, and he clothed them. \"']]"
      ]
     },
     "execution_count": 11,
     "metadata": {},
     "output_type": "execute_result"
    }
   ],
   "source": [
    "table_output = my_parser.toTable()\n",
    "table_output\n"
   ]
  },
  {
   "cell_type": "code",
   "execution_count": 12,
   "id": "f56bc71d",
   "metadata": {},
   "outputs": [
    {
     "name": "stdout",
     "output_type": "stream",
     "text": [
      "Book\tChapter\tVerse\tText\n",
      "EXO\t1\t1\t\"യാക്കോബിനോടുകൂടെ കുടുംബസഹിതം ഈജിപ്റ്റിൽ വന്ന  യിസ്രായേൽമക്കളുടെ പേരുകൾ :  \"\n",
      "EXO\t1\t2\t\"രൂബേൻ, ശിമെയോൻ, ലേവി, \"\n",
      "EXO\t1\t3\t\" യെഹൂദാ,  യിസ്സാഖാർ,  സെബൂലൂൻ,  ബെന്യാമീൻ \"\n",
      "EXO\t1\t4\t\"ദാൻ, നഫ്താലി, ഗാദ്, ആശേർ. \"\n",
      "EXO\t1\t5\t\"യാക്കോബിന്റെ സന്താനപരമ്പരകൾ എല്ലാം കൂടി എഴുപതു പേർ ആയിരുന്നു; യോസേഫ് മുമ്പെ തന്നെ ഈജിപ്റ്റിൽ ആയിരുന്നു.  graciousgrace and then a few words later  graciouslemma=\"grace\" x-myattr=\"metadata\" \"\n",
      "EXO\t2\t1\t\"This is a prayer of the prophet Habakkuk: \"\n",
      "EXO\t2\t2\t\"O  Lord, I have heard of what you have done, and I am filled with awe. Now do again in our times the great deeds you used to do. Be merciful, even when you are angry. \"\n",
      "EXO\t2\t20\t\"Adam  named his wife Eve,  because she was the mother of all human beings. \"\n",
      "EXO\t2\t21\t\"And the  Lord God made clothes out of animal skins for Adam and his wife, and he clothed them. \"\n"
     ]
    }
   ],
   "source": [
    "print(\"\\n\".join([\"\\t\".join(row) for row in table_output]))"
   ]
  },
  {
   "cell_type": "code",
   "execution_count": null,
   "id": "6db3993e",
   "metadata": {},
   "outputs": [],
   "source": []
  },
  {
   "cell_type": "code",
   "execution_count": 13,
   "id": "e6fa8566",
   "metadata": {},
   "outputs": [],
   "source": [
    "# table_output = my_parser.toTable(Filter.NOTES.value)\n",
    "# print(\"\\n\".join([\"\\t\".join(row) for row in table_output]))\n"
   ]
  },
  {
   "cell_type": "code",
   "execution_count": null,
   "id": "d7b6c4d0",
   "metadata": {},
   "outputs": [],
   "source": []
  },
  {
   "cell_type": "code",
   "execution_count": 14,
   "id": "43049bb6",
   "metadata": {},
   "outputs": [
    {
     "data": {
      "text/plain": [
       "{'book': {'bookcode': 'EXO',\n",
       "  'chapters': [{'chapterNumber': '1',\n",
       "    'contents': [{'paragraph': [{'verseNumber': '1',\n",
       "        'verseText': 'യാക്കോബിനോടുകൂടെ കുടുംബസഹിതം ഈജിപ്റ്റിൽ വന്ന  '}]},\n",
       "     {'paragraph': [{'verseText': 'യിസ്രായേൽമക്കളുടെ പേരുകൾ :  '},\n",
       "       {'verseNumber': '2', 'verseText': 'രൂബേൻ, ശിമെയോൻ, ലേവി, '},\n",
       "       {'verseNumber': '3', 'verseText': ' '}]},\n",
       "     {'list': [{'verseText': 'യെഹൂദാ,  യിസ്സാഖാർ,  സെബൂലൂൻ,  ബെന്യാമീൻ '},\n",
       "       {'verseNumber': '4', 'verseText': 'ദാൻ, നഫ്താലി, ഗാദ്, ആശേർ. '},\n",
       "       {'verseNumber': '5',\n",
       "        'verseText': 'യാക്കോബിന്റെ സന്താനപരമ്പരകൾ എല്ലാം കൂടി എഴുപതു പേർ ആയിരുന്നു; യോസേഫ് മുമ്പെ തന്നെ ഈജിപ്റ്റിൽ ആയിരുന്നു.  graciousgrace and then a few words later  graciouslemma=\"grace\" x-myattr=\"metadata\" '}]}]},\n",
       "   {'chapterNumber': '2',\n",
       "    'contents': [{'title': 'A Prayer of Habakkuk'},\n",
       "     {'paragraph': [{'verseNumber': '1',\n",
       "        'verseText': 'This is a prayer of the prophet Habakkuk: '}]},\n",
       "     {'paragraph': []},\n",
       "     {'poetry': [{'verseNumber': '2',\n",
       "        'verseText': 'O  Lord, I have heard of what you have done, and I am filled with awe. Now do again in our times the great deeds you used to do. Be merciful, even when you are angry. '}]},\n",
       "     {'paragraph': [{'verseNumber': '20',\n",
       "        'verseText': 'Adam  named his wife Eve,  because she was the mother of all human beings. '},\n",
       "       {'verseNumber': '21',\n",
       "        'verseText': 'And the  Lord God made clothes out of animal skins for Adam and his wife, and he clothed them. '}]}]}]}}"
      ]
     },
     "execution_count": 14,
     "metadata": {},
     "output_type": "execute_result"
    }
   ],
   "source": [
    "my_parser.toDict(Filter.SCRIPTURE_PARAGRAPHS.value)"
   ]
  },
  {
   "cell_type": "code",
   "execution_count": 15,
   "id": "3f14c2b0",
   "metadata": {},
   "outputs": [
    {
     "name": "stdout",
     "output_type": "stream",
     "text": [
      "Book\tChapter\tType\tContents\n",
      "EXO\t1\tparagraph\t1 യാക്കോബിനോടുകൂടെ കുടുംബസഹിതം ഈജിപ്റ്റിൽ വന്ന  \n",
      "EXO\t1\tparagraph\tയിസ്രായേൽമക്കളുടെ പേരുകൾ :   2 രൂബേൻ, ശിമെയോൻ, ലേവി,  3  \n",
      "EXO\t1\tlist\tയെഹൂദാ,  യിസ്സാഖാർ,  സെബൂലൂൻ,  ബെന്യാമീൻ  4 ദാൻ, നഫ്താലി, ഗാദ്, ആശേർ.  5 യാക്കോബിന്റെ സന്താനപരമ്പരകൾ എല്ലാം കൂടി എഴുപതു പേർ ആയിരുന്നു; യോസേഫ് മുമ്പെ തന്നെ ഈജിപ്റ്റിൽ ആയിരുന്നു.  graciousgrace and then a few words later  graciouslemma=\"grace\" x-myattr=\"metadata\" \n",
      "EXO\t2\ttitle\tA Prayer of Habakkuk\n",
      "EXO\t2\tparagraph\t1 This is a prayer of the prophet Habakkuk: \n",
      "EXO\t2\tparagraph\t\n",
      "EXO\t2\tpoetry\t2 O  Lord, I have heard of what you have done, and I am filled with awe. Now do again in our times the great deeds you used to do. Be merciful, even when you are angry. \n",
      "EXO\t2\tparagraph\t20 Adam  named his wife Eve,  because she was the mother of all human beings.  21 And the  Lord God made clothes out of animal skins for Adam and his wife, and he clothed them. \n"
     ]
    }
   ],
   "source": [
    "table_output = my_parser.toTable(Filter.SCRIPTURE_PARAGRAPHS.value)\n",
    "print(\"\\n\".join([\"\\t\".join(row) for row in table_output]))\n"
   ]
  },
  {
   "cell_type": "code",
   "execution_count": null,
   "id": "fe450f35",
   "metadata": {},
   "outputs": [],
   "source": []
  },
  {
   "cell_type": "markdown",
   "id": "28d3673f",
   "metadata": {},
   "source": [
    "### To work with the AST directly"
   ]
  },
  {
   "cell_type": "code",
   "execution_count": 16,
   "id": "818e36d9",
   "metadata": {},
   "outputs": [
    {
     "data": {
      "text/plain": [
       "<Node kind=File, start_point=(0, 0), end_point=(35, 0)>"
      ]
     },
     "execution_count": 16,
     "metadata": {},
     "output_type": "execute_result"
    }
   ],
   "source": [
    "my_parser.AST"
   ]
  },
  {
   "cell_type": "code",
   "execution_count": 48,
   "id": "fda998b2",
   "metadata": {},
   "outputs": [
    {
     "name": "stdout",
     "output_type": "stream",
     "text": [
      "യാക്കോബിനോടുകൂടെ കുടുംബസഹിതം ഈജിപ്റ്റിൽ വന്ന \n",
      "\n",
      "യിസ്രായേൽമക്കളുടെ പേരുകൾ : \n",
      "\n",
      "രൂബേൻ, ശിമെയോൻ, ലേവി,\n",
      "\n",
      "\n",
      "\n",
      "യെഹൂദാ, \n",
      "\n",
      "യിസ്സാഖാർ, \n",
      "\n",
      "സെബൂലൂൻ, \n",
      "\n",
      "ബെന്യാമീൻ\n",
      "\n",
      "ദാൻ, നഫ്താലി, ഗാദ്, ആശേർ.\n",
      "\n",
      "യാക്കോബിന്റെ സന്താനപരമ്പരകൾ എല്ലാം കൂടി എഴുപതു പേർ ആയിരുന്നു; യോസേഫ് മുമ്പെ തന്നെ ഈജിപ്റ്റിൽ ആയിരുന്നു. \n",
      " gracious\n",
      "grace\n",
      " and then a few words later \n",
      " gracious\n",
      "lemma=\"grace\" x-myattr=\"metadata\"\n",
      "\n",
      "\n",
      "This is a prayer of the prophet Habakkuk:\n",
      "\n",
      "O \n",
      " Lord\n",
      ", I have heard of what you have done,\n",
      "\n",
      "and I am filled with awe.\n",
      "\n",
      "Now do again in our times\n",
      "\n",
      "the great deeds you used to do.\n",
      "\n",
      "Be merciful, even when you are angry.\n",
      "\n",
      "Adam \n",
      "\n",
      "named his wife Eve, \n",
      " because she\n",
      "was the mother of all human beings.\n",
      "\n",
      "And the \n",
      " Lord\n",
      " God made clothes out of animal skins for Adam and his wife,\n",
      "and he clothed them.\n",
      "\n"
     ]
    }
   ],
   "source": [
    "from usfm_grammar import USFM_LANGUAGE\n",
    "\n",
    "captures = USFM_LANGUAGE.query(\"(verseText) @verse-text\").captures(my_parser.AST)\n",
    "for cap in captures:\n",
    "    text_captures = USFM_LANGUAGE.query(\"(text) @text\").captures(cap[0])\n",
    "    for tcap in text_captures:\n",
    "        print(my_parser.USFMbytes[tcap[0].start_byte:tcap[0].end_byte].decode(\"utf-8\"))"
   ]
  },
  {
   "cell_type": "code",
   "execution_count": null,
   "id": "010c5a78",
   "metadata": {},
   "outputs": [],
   "source": []
  },
  {
   "cell_type": "code",
   "execution_count": null,
   "id": "61bb5fd1",
   "metadata": {},
   "outputs": [],
   "source": []
  }
 ],
 "metadata": {
  "kernelspec": {
   "display_name": "tree-sitter-env",
   "language": "python",
   "name": "tree-sitter-env"
  },
  "language_info": {
   "codemirror_mode": {
    "name": "ipython",
    "version": 3
   },
   "file_extension": ".py",
   "mimetype": "text/x-python",
   "name": "python",
   "nbconvert_exporter": "python",
   "pygments_lexer": "ipython3",
   "version": "3.8.10"
  }
 },
 "nbformat": 4,
 "nbformat_minor": 5
}
